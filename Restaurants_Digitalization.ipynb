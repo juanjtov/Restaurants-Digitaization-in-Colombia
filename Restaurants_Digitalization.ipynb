{
  "nbformat": 4,
  "nbformat_minor": 0,
  "metadata": {
    "colab": {
      "name": "Restaurants_Digitalization.ipynb",
      "provenance": [],
      "collapsed_sections": [],
      "authorship_tag": "ABX9TyOCMqunGoK4k4c875+dsElm",
      "include_colab_link": true
    },
    "kernelspec": {
      "name": "python3",
      "display_name": "Python 3"
    }
  },
  "cells": [
    {
      "cell_type": "markdown",
      "metadata": {
        "id": "view-in-github",
        "colab_type": "text"
      },
      "source": [
        "<a href=\"https://colab.research.google.com/github/juanjtov/Restaurants-Digitalization-in-Colombia/blob/main/Restaurants_Digitalization.ipynb\" target=\"_parent\"><img src=\"https://colab.research.google.com/assets/colab-badge.svg\" alt=\"Open In Colab\"/></a>"
      ]
    },
    {
      "cell_type": "markdown",
      "metadata": {
        "id": "NnW8UHuZ4Job"
      },
      "source": [
        "# SET UP"
      ]
    },
    {
      "cell_type": "code",
      "metadata": {
        "id": "QA8iuobKu8MZ"
      },
      "source": [
        "import pandas as pd\n",
        "import numpy as np"
      ],
      "execution_count": 1,
      "outputs": []
    },
    {
      "cell_type": "code",
      "metadata": {
        "colab": {
          "base_uri": "https://localhost:8080/"
        },
        "id": "bbx4HoB34Rmx",
        "outputId": "697a365e-c598-46a1-9525-771739bbd42d"
      },
      "source": [
        "from google.colab import drive\n",
        "drive.mount('/content/drive')"
      ],
      "execution_count": 2,
      "outputs": [
        {
          "output_type": "stream",
          "text": [
            "Mounted at /content/drive\n"
          ],
          "name": "stdout"
        }
      ]
    },
    {
      "cell_type": "code",
      "metadata": {
        "colab": {
          "base_uri": "https://localhost:8080/"
        },
        "id": "gYLlp3246LOB",
        "outputId": "d9dcb23c-2b0b-48a2-c1f3-0b4a13a95cd4"
      },
      "source": [
        "%cd '/content/drive/My Drive/'\n",
        "!ls"
      ],
      "execution_count": 3,
      "outputs": [
        {
          "output_type": "stream",
          "text": [
            "/content/drive/My Drive\n",
            " age_gendersm.csv\t\t\t   llamada_issues.csv\n",
            " age_sm.csv\t\t\t\t  'personal website JJ.gjam'\n",
            " azurebook.pdf\t\t\t\t  'Proyecto final Juan José Tovar.mp4'\n",
            " Blog\t\t\t\t\t   rappi_issues.csv\n",
            "'Colab Notebooks'\t\t\t   rappi_issues.xlsx\n",
            "'Complejidad Algorítmica.gdoc'\t\t   rappivsissues.csv\n",
            "'Copy of poblacion.csv'\t\t\t   rappivsissues.gsheet\n",
            "'Copy of Prueba técnica 1.0.8.gdoc'\t   redessociales.csv\n",
            "'Dashboard NLP.gjam'\t\t\t   Restaurants_Digitalization.ipynb\n",
            " DEVELOPER\t\t\t\t   rest_survey.csv\n",
            "'Digitalización de los Restaurantes.csv'   rest_survey.xls\n",
            " Finances\t\t\t\t   rest_survey.xlsx\n",
            " Hackaton\t\t\t\t   results.xls\n",
            " Images\t\t\t\t\t   smpref_freq.csv\n",
            " LATECH\t\t\t\t\t  'Untitled document (1).gdoc'\n",
            "'leasing contract Apr-Jul.pdf'\t\t  'Untitled document.gdoc'\n",
            "'Lecole Estrategias.gdoc'\t\t  'Untitled presentation.gslides'\n"
          ],
          "name": "stdout"
        }
      ]
    },
    {
      "cell_type": "markdown",
      "metadata": {
        "id": "JO7rxXNnuAVX"
      },
      "source": [
        "\n",
        "#Load the Survey Results"
      ]
    },
    {
      "cell_type": "code",
      "metadata": {
        "colab": {
          "base_uri": "https://localhost:8080/"
        },
        "id": "6s2bsAV8uLJ9",
        "outputId": "af23d772-418c-459f-e4ce-586b970efcb7"
      },
      "source": [
        "df_rest = pd.read_csv('/content/drive/My Drive/Digitalización de los Restaurantes.csv', usecols=[*range(1,15)], index_col=False)\n",
        "df_rest.head"
      ],
      "execution_count": 4,
      "outputs": [
        {
          "output_type": "execute_result",
          "data": {
            "text/plain": [
              "<bound method NDFrame.head of     ¿Cuál es su edad?  ... ¿Qué tipo de información quisiera recibir sobre su restaurante?\n",
              "0       Entre 20 y 35  ...                 Promociones;Recetas/Tips de cocina             \n",
              "1       Entre 35 y 45  ...                          Promociones;Menu;Horarios             \n",
              "2         Mayor de 45  ...                                        Promociones             \n",
              "3       Entre 20 y 35  ...                                        Promociones             \n",
              "4       Entre 20 y 35  ...   Promociones;Menu;Recetas/Tips de cocina;Horarios             \n",
              "..                ...  ...                                                ...             \n",
              "154     Entre 20 y 35  ...                                   Promociones;Menu             \n",
              "155     Entre 20 y 35  ...                                           Horarios             \n",
              "156     Entre 35 y 45  ...                                      Menu;Horarios             \n",
              "157     Entre 20 y 35  ...                                   Promociones;Menu             \n",
              "158     Entre 20 y 35  ...                                        Promociones             \n",
              "\n",
              "[159 rows x 14 columns]>"
            ]
          },
          "metadata": {
            "tags": []
          },
          "execution_count": 4
        }
      ]
    },
    {
      "cell_type": "code",
      "metadata": {
        "colab": {
          "base_uri": "https://localhost:8080/"
        },
        "id": "eKPuEY2FuLgJ",
        "outputId": "28cbc08e-f39b-40e5-b174-2da197928674"
      },
      "source": [
        "#@title Check the columns\n",
        "df_rest.columns, len(df_rest.columns)"
      ],
      "execution_count": 5,
      "outputs": [
        {
          "output_type": "execute_result",
          "data": {
            "text/plain": [
              "(Index(['¿Cuál es su edad?', 'Género',\n",
              "        '¿Cuál es su preferido en estos tiempos de pandemia?',\n",
              "        '¿Cuáles medidas de BIOSEGURIDAD han sido adaptadas por los restaurantes en su ciudad? (varias)',\n",
              "        '¿Cuáles de las medidas de BIOSEGURIDAD le gustaría que permanecieran aun después de esta pandemia? (varias)',\n",
              "        'Si ordenara un domicilio, ¿Cuál es su tipo de comida favorita?',\n",
              "        '¿Cuál considera que es el principal problema a la hora de ordenar un domicilio?',\n",
              "        '¿Cuál es su medio favorito para ordenar un domicilio?',\n",
              "        '¿Le gustaría ordenar su comida a través de una aplicación para el celular y/o página web propia de cada restaurante? ',\n",
              "        '¿Utiliza redes sociales? ', 'Si utiliza redes sociales, ¿cuáles? ',\n",
              "        'Sí su restaurante favorito utilizara redes sociales, ¿lo seguiría?',\n",
              "        '¿Le gustaría recibir información de sus restaurantes favoritos a través de las redes sociales? ',\n",
              "        '¿Qué tipo de información quisiera recibir sobre su restaurante?'],\n",
              "       dtype='object'), 14)"
            ]
          },
          "metadata": {
            "tags": []
          },
          "execution_count": 5
        }
      ]
    },
    {
      "cell_type": "markdown",
      "metadata": {
        "id": "O7IcO8K1vHFz"
      },
      "source": [
        "# DATA WRANGLING"
      ]
    },
    {
      "cell_type": "markdown",
      "metadata": {
        "id": "QtQ-Im6ivK4I"
      },
      "source": [
        "## Clean unuseful columns and rename the remaining ones\n"
      ]
    },
    {
      "cell_type": "code",
      "metadata": {
        "colab": {
          "base_uri": "https://localhost:8080/"
        },
        "id": "m77TuTdMuwIT",
        "outputId": "1107cc49-c5a8-4a5b-f093-4d98c1fc7d05"
      },
      "source": [
        "\n",
        "df_rest.drop(['¿Utiliza redes sociales? ', '¿Le gustaría recibir información de sus restaurantes favoritos a través de las redes sociales? ', 'Sí su restaurante favorito utilizara redes sociales, ¿lo seguiría?' ], axis = 1, inplace=True) \n",
        "df_rest.columns, len(df_rest.columns)"
      ],
      "execution_count": 6,
      "outputs": [
        {
          "output_type": "execute_result",
          "data": {
            "text/plain": [
              "(Index(['¿Cuál es su edad?', 'Género',\n",
              "        '¿Cuál es su preferido en estos tiempos de pandemia?',\n",
              "        '¿Cuáles medidas de BIOSEGURIDAD han sido adaptadas por los restaurantes en su ciudad? (varias)',\n",
              "        '¿Cuáles de las medidas de BIOSEGURIDAD le gustaría que permanecieran aun después de esta pandemia? (varias)',\n",
              "        'Si ordenara un domicilio, ¿Cuál es su tipo de comida favorita?',\n",
              "        '¿Cuál considera que es el principal problema a la hora de ordenar un domicilio?',\n",
              "        '¿Cuál es su medio favorito para ordenar un domicilio?',\n",
              "        '¿Le gustaría ordenar su comida a través de una aplicación para el celular y/o página web propia de cada restaurante? ',\n",
              "        'Si utiliza redes sociales, ¿cuáles? ',\n",
              "        '¿Qué tipo de información quisiera recibir sobre su restaurante?'],\n",
              "       dtype='object'), 11)"
            ]
          },
          "metadata": {
            "tags": []
          },
          "execution_count": 6
        }
      ]
    },
    {
      "cell_type": "code",
      "metadata": {
        "colab": {
          "base_uri": "https://localhost:8080/"
        },
        "id": "3mjSk_aruccb",
        "outputId": "463a9645-c066-4047-d489-267798e32058"
      },
      "source": [
        "df_rest.columns = ['Edad','Genero','Preferencias', 'Bioseguridad en restaurantes', 'Bioseguridad Despues de Pandemia', 'Comida Favorita a Domicilio', 'Problemas Domicilio', 'Medio Favorito para Ordener', 'Pedir por Internet', 'Cuales Redes Sociales', 'Preferencias SM']\n",
        "df_rest.columns, df_rest.head()"
      ],
      "execution_count": 11,
      "outputs": [
        {
          "output_type": "execute_result",
          "data": {
            "text/plain": [
              "(Index(['Edad', 'Genero', 'Preferencias', 'Bioseguridad en restaurantes',\n",
              "        'Bioseguridad Despues de Pandemia', 'Comida Favorita a Domicilio',\n",
              "        'Problemas Domicilio', 'Medio Favorito para Ordener',\n",
              "        'Pedir por Internet', 'Cuales Redes Sociales', 'Preferencias SM'],\n",
              "       dtype='object'),\n",
              "             Edad  ...                                   Preferencias SM\n",
              " 0  Entre 20 y 35  ...                Promociones;Recetas/Tips de cocina\n",
              " 1  Entre 35 y 45  ...                         Promociones;Menu;Horarios\n",
              " 2    Mayor de 45  ...                                       Promociones\n",
              " 3  Entre 20 y 35  ...                                       Promociones\n",
              " 4  Entre 20 y 35  ...  Promociones;Menu;Recetas/Tips de cocina;Horarios\n",
              " \n",
              " [5 rows x 11 columns])"
            ]
          },
          "metadata": {
            "tags": []
          },
          "execution_count": 11
        }
      ]
    },
    {
      "cell_type": "code",
      "metadata": {
        "colab": {
          "base_uri": "https://localhost:8080/"
        },
        "id": "DQKXZw77JgYT",
        "outputId": "ddc32399-adf0-4cdf-8261-f6fa2bf6cb62"
      },
      "source": [
        "df_rest.rename(columns={'Medio Favorito para Ordener':'Medio Favorito Para Ordenar'}, inplace=True)\n",
        "df_rest.columns"
      ],
      "execution_count": 13,
      "outputs": [
        {
          "output_type": "execute_result",
          "data": {
            "text/plain": [
              "Index(['Edad', 'Genero', 'Preferencias', 'Bioseguridad en restaurantes',\n",
              "       'Bioseguridad Despues de Pandemia', 'Comida Favorita a Domicilio',\n",
              "       'Problemas Domicilio', 'Medio Favorito Para Ordenar',\n",
              "       'Pedir por Internet', 'Cuales Redes Sociales', 'Preferencias SM'],\n",
              "      dtype='object')"
            ]
          },
          "metadata": {
            "tags": []
          },
          "execution_count": 13
        }
      ]
    },
    {
      "cell_type": "markdown",
      "metadata": {
        "id": "pR8lE5dqZzt1"
      },
      "source": [
        "## Create the saving paths"
      ]
    },
    {
      "cell_type": "code",
      "metadata": {
        "id": "W43pXuITucfZ"
      },
      "source": [
        "#@title Save Dataset  as a csv\n",
        "path = '/content/drive/My Drive/rest_survey.csv'\n",
        "df_rest.to_csv(path, index=False)"
      ],
      "execution_count": null,
      "outputs": []
    },
    {
      "cell_type": "code",
      "metadata": {
        "id": "bbsaVhCiuci8"
      },
      "source": [
        "#@title Save Data set as spreadsheet\n",
        "path_2 = '/content/drive/My Drive/rest_survey.xls'\n",
        "df_rest.to_excel(path_2, encoding=\"utf-8\", index=False)"
      ],
      "execution_count": null,
      "outputs": []
    },
    {
      "cell_type": "markdown",
      "metadata": {
        "id": "kLcwPIYIJfeh"
      },
      "source": [
        "# ANALYSIS\n",
        "\n",
        "Searching correlations among the results: preferred social network, delivery method an so on. As well as, correlation between the preferred delivery methods and main issues"
      ]
    },
    {
      "cell_type": "markdown",
      "metadata": {
        "id": "2mbTcCpKb43F"
      },
      "source": [
        "## Social Networks Analysis"
      ]
    },
    {
      "cell_type": "code",
      "metadata": {
        "colab": {
          "base_uri": "https://localhost:8080/",
          "height": 417
        },
        "id": "QFUaWYbcyrbL",
        "outputId": "057637ab-b298-4d66-b807-c4578f626e77"
      },
      "source": [
        "df_redes = df_rest[['Cuales Redes Sociales']].copy()\n",
        "df_redes"
      ],
      "execution_count": 16,
      "outputs": [
        {
          "output_type": "execute_result",
          "data": {
            "text/html": [
              "<div>\n",
              "<style scoped>\n",
              "    .dataframe tbody tr th:only-of-type {\n",
              "        vertical-align: middle;\n",
              "    }\n",
              "\n",
              "    .dataframe tbody tr th {\n",
              "        vertical-align: top;\n",
              "    }\n",
              "\n",
              "    .dataframe thead th {\n",
              "        text-align: right;\n",
              "    }\n",
              "</style>\n",
              "<table border=\"1\" class=\"dataframe\">\n",
              "  <thead>\n",
              "    <tr style=\"text-align: right;\">\n",
              "      <th></th>\n",
              "      <th>Cuales Redes Sociales</th>\n",
              "    </tr>\n",
              "  </thead>\n",
              "  <tbody>\n",
              "    <tr>\n",
              "      <th>0</th>\n",
              "      <td>Instagram;Facebook;Whatsapp</td>\n",
              "    </tr>\n",
              "    <tr>\n",
              "      <th>1</th>\n",
              "      <td>Instagram;Facebook;Whatsapp</td>\n",
              "    </tr>\n",
              "    <tr>\n",
              "      <th>2</th>\n",
              "      <td>Whatsapp</td>\n",
              "    </tr>\n",
              "    <tr>\n",
              "      <th>3</th>\n",
              "      <td>Instagram</td>\n",
              "    </tr>\n",
              "    <tr>\n",
              "      <th>4</th>\n",
              "      <td>Instagram;Facebook;Twitter;Whatsapp</td>\n",
              "    </tr>\n",
              "    <tr>\n",
              "      <th>...</th>\n",
              "      <td>...</td>\n",
              "    </tr>\n",
              "    <tr>\n",
              "      <th>154</th>\n",
              "      <td>Instagram;Facebook;Twitter;Whatsapp</td>\n",
              "    </tr>\n",
              "    <tr>\n",
              "      <th>155</th>\n",
              "      <td>Instagram;Facebook;Whatsapp</td>\n",
              "    </tr>\n",
              "    <tr>\n",
              "      <th>156</th>\n",
              "      <td>Whatsapp</td>\n",
              "    </tr>\n",
              "    <tr>\n",
              "      <th>157</th>\n",
              "      <td>Instagram;Whatsapp</td>\n",
              "    </tr>\n",
              "    <tr>\n",
              "      <th>158</th>\n",
              "      <td>Instagram;Facebook;Whatsapp</td>\n",
              "    </tr>\n",
              "  </tbody>\n",
              "</table>\n",
              "<p>159 rows × 1 columns</p>\n",
              "</div>"
            ],
            "text/plain": [
              "                   Cuales Redes Sociales\n",
              "0            Instagram;Facebook;Whatsapp\n",
              "1            Instagram;Facebook;Whatsapp\n",
              "2                               Whatsapp\n",
              "3                              Instagram\n",
              "4    Instagram;Facebook;Twitter;Whatsapp\n",
              "..                                   ...\n",
              "154  Instagram;Facebook;Twitter;Whatsapp\n",
              "155          Instagram;Facebook;Whatsapp\n",
              "156                             Whatsapp\n",
              "157                   Instagram;Whatsapp\n",
              "158          Instagram;Facebook;Whatsapp\n",
              "\n",
              "[159 rows x 1 columns]"
            ]
          },
          "metadata": {
            "tags": []
          },
          "execution_count": 16
        }
      ]
    },
    {
      "cell_type": "markdown",
      "metadata": {
        "id": "3ueakh2kaYOM"
      },
      "source": [
        "## Rappi vs Issues\n"
      ]
    },
    {
      "cell_type": "code",
      "metadata": {
        "colab": {
          "base_uri": "https://localhost:8080/"
        },
        "id": "ssO9vEimbP3O",
        "outputId": "9fce2894-ab8e-43e6-b1e3-b5cdab600e66"
      },
      "source": [
        "df_rest.columns"
      ],
      "execution_count": 12,
      "outputs": [
        {
          "output_type": "execute_result",
          "data": {
            "text/plain": [
              "Index(['Edad', 'Genero', 'Preferencias', 'Bioseguridad en restaurantes',\n",
              "       'Bioseguridad Despues de Pandemia', 'Comida Favorita a Domicilio',\n",
              "       'Problemas Domicilio', 'Medio Favorito para Ordener',\n",
              "       'Pedir por Internet', 'Cuales Redes Sociales', 'Preferencias SM'],\n",
              "      dtype='object')"
            ]
          },
          "metadata": {
            "tags": []
          },
          "execution_count": 12
        }
      ]
    },
    {
      "cell_type": "code",
      "metadata": {
        "colab": {
          "base_uri": "https://localhost:8080/",
          "height": 417
        },
        "id": "Id35ruIvJgbI",
        "outputId": "8c9991b3-aeb1-43de-e71c-78dfd271b0ca"
      },
      "source": [
        "#@title Rappi vs Issues\n",
        "df_issues = df_rest[['Medio Favorito Para Ordenar', 'Problemas Domicilio']].copy()\n",
        "df_issues"
      ],
      "execution_count": 18,
      "outputs": [
        {
          "output_type": "execute_result",
          "data": {
            "text/html": [
              "<div>\n",
              "<style scoped>\n",
              "    .dataframe tbody tr th:only-of-type {\n",
              "        vertical-align: middle;\n",
              "    }\n",
              "\n",
              "    .dataframe tbody tr th {\n",
              "        vertical-align: top;\n",
              "    }\n",
              "\n",
              "    .dataframe thead th {\n",
              "        text-align: right;\n",
              "    }\n",
              "</style>\n",
              "<table border=\"1\" class=\"dataframe\">\n",
              "  <thead>\n",
              "    <tr style=\"text-align: right;\">\n",
              "      <th></th>\n",
              "      <th>Medio Favorito Para Ordenar</th>\n",
              "      <th>Problemas Domicilio</th>\n",
              "    </tr>\n",
              "  </thead>\n",
              "  <tbody>\n",
              "    <tr>\n",
              "      <th>0</th>\n",
              "      <td>Rappi</td>\n",
              "      <td>Mala Comunicación/errores en la orden;Tiempo d...</td>\n",
              "    </tr>\n",
              "    <tr>\n",
              "      <th>1</th>\n",
              "      <td>Llamar directamente al restaurante</td>\n",
              "      <td>Tiempo de espera;Costos de envio</td>\n",
              "    </tr>\n",
              "    <tr>\n",
              "      <th>2</th>\n",
              "      <td>Rappi</td>\n",
              "      <td>Tiempo de espera</td>\n",
              "    </tr>\n",
              "    <tr>\n",
              "      <th>3</th>\n",
              "      <td>Rappi</td>\n",
              "      <td>Mala Comunicación/errores en la orden</td>\n",
              "    </tr>\n",
              "    <tr>\n",
              "      <th>4</th>\n",
              "      <td>Llamar directamente al restaurante</td>\n",
              "      <td>Metodos de pago;Tiempo de espera</td>\n",
              "    </tr>\n",
              "    <tr>\n",
              "      <th>...</th>\n",
              "      <td>...</td>\n",
              "      <td>...</td>\n",
              "    </tr>\n",
              "    <tr>\n",
              "      <th>154</th>\n",
              "      <td>Llamar directamente al restaurante</td>\n",
              "      <td>Tiempo de espera</td>\n",
              "    </tr>\n",
              "    <tr>\n",
              "      <th>155</th>\n",
              "      <td>Rappi</td>\n",
              "      <td>Tiempo de espera</td>\n",
              "    </tr>\n",
              "    <tr>\n",
              "      <th>156</th>\n",
              "      <td>www.liferando.de</td>\n",
              "      <td>Tiempo de espera</td>\n",
              "    </tr>\n",
              "    <tr>\n",
              "      <th>157</th>\n",
              "      <td>Llamar directamente al restaurante</td>\n",
              "      <td>Tiempo de espera</td>\n",
              "    </tr>\n",
              "    <tr>\n",
              "      <th>158</th>\n",
              "      <td>Uber Eats</td>\n",
              "      <td>Costos de envio</td>\n",
              "    </tr>\n",
              "  </tbody>\n",
              "</table>\n",
              "<p>159 rows × 2 columns</p>\n",
              "</div>"
            ],
            "text/plain": [
              "            Medio Favorito Para Ordenar                                Problemas Domicilio\n",
              "0                                 Rappi  Mala Comunicación/errores en la orden;Tiempo d...\n",
              "1    Llamar directamente al restaurante                   Tiempo de espera;Costos de envio\n",
              "2                                 Rappi                                   Tiempo de espera\n",
              "3                                 Rappi              Mala Comunicación/errores en la orden\n",
              "4    Llamar directamente al restaurante                   Metodos de pago;Tiempo de espera\n",
              "..                                  ...                                                ...\n",
              "154  Llamar directamente al restaurante                                   Tiempo de espera\n",
              "155                               Rappi                                   Tiempo de espera\n",
              "156                    www.liferando.de                                   Tiempo de espera\n",
              "157  Llamar directamente al restaurante                                   Tiempo de espera\n",
              "158                           Uber Eats                                    Costos de envio\n",
              "\n",
              "[159 rows x 2 columns]"
            ]
          },
          "metadata": {
            "tags": []
          },
          "execution_count": 18
        }
      ]
    },
    {
      "cell_type": "markdown",
      "metadata": {
        "id": "e1b18GewcQca"
      },
      "source": [
        "## Call for an order and  main delivery issues"
      ]
    },
    {
      "cell_type": "code",
      "metadata": {
        "colab": {
          "base_uri": "https://localhost:8080/",
          "height": 447
        },
        "id": "9aqGIg9rJgeC",
        "outputId": "9949ce19-b057-451e-e66e-bb192743fff4"
      },
      "source": [
        "df_issues = df_issues.set_index(['Medio Favorito Para Ordenar']).sort_index()\n",
        "df_issues"
      ],
      "execution_count": 19,
      "outputs": [
        {
          "output_type": "execute_result",
          "data": {
            "text/html": [
              "<div>\n",
              "<style scoped>\n",
              "    .dataframe tbody tr th:only-of-type {\n",
              "        vertical-align: middle;\n",
              "    }\n",
              "\n",
              "    .dataframe tbody tr th {\n",
              "        vertical-align: top;\n",
              "    }\n",
              "\n",
              "    .dataframe thead th {\n",
              "        text-align: right;\n",
              "    }\n",
              "</style>\n",
              "<table border=\"1\" class=\"dataframe\">\n",
              "  <thead>\n",
              "    <tr style=\"text-align: right;\">\n",
              "      <th></th>\n",
              "      <th>Problemas Domicilio</th>\n",
              "    </tr>\n",
              "    <tr>\n",
              "      <th>Medio Favorito Para Ordenar</th>\n",
              "      <th></th>\n",
              "    </tr>\n",
              "  </thead>\n",
              "  <tbody>\n",
              "    <tr>\n",
              "      <th>Domicilios.com</th>\n",
              "      <td>Mala Comunicación/errores en la orden;Tiempo d...</td>\n",
              "    </tr>\n",
              "    <tr>\n",
              "      <th>Domicilios.com</th>\n",
              "      <td>Tiempo de espera</td>\n",
              "    </tr>\n",
              "    <tr>\n",
              "      <th>Ifood</th>\n",
              "      <td>Mala Comunicación/errores en la orden;Costos d...</td>\n",
              "    </tr>\n",
              "    <tr>\n",
              "      <th>Ifood</th>\n",
              "      <td>Medios de pago;Tiempo de espera;Costos de envi...</td>\n",
              "    </tr>\n",
              "    <tr>\n",
              "      <th>Ifood</th>\n",
              "      <td>Tiempo de espera;Costos de envio</td>\n",
              "    </tr>\n",
              "    <tr>\n",
              "      <th>...</th>\n",
              "      <td>...</td>\n",
              "    </tr>\n",
              "    <tr>\n",
              "      <th>Uber Eats</th>\n",
              "      <td>Tiempo de espera</td>\n",
              "    </tr>\n",
              "    <tr>\n",
              "      <th>Uber Eats</th>\n",
              "      <td>Costos de envio</td>\n",
              "    </tr>\n",
              "    <tr>\n",
              "      <th>Uber Eats</th>\n",
              "      <td>Metodos de pago;Costos de envio</td>\n",
              "    </tr>\n",
              "    <tr>\n",
              "      <th>Uber Eats</th>\n",
              "      <td>Costos de envio</td>\n",
              "    </tr>\n",
              "    <tr>\n",
              "      <th>www.liferando.de</th>\n",
              "      <td>Tiempo de espera</td>\n",
              "    </tr>\n",
              "  </tbody>\n",
              "</table>\n",
              "<p>159 rows × 1 columns</p>\n",
              "</div>"
            ],
            "text/plain": [
              "                                                           Problemas Domicilio\n",
              "Medio Favorito Para Ordenar                                                   \n",
              "Domicilios.com               Mala Comunicación/errores en la orden;Tiempo d...\n",
              "Domicilios.com                                                Tiempo de espera\n",
              "Ifood                        Mala Comunicación/errores en la orden;Costos d...\n",
              "Ifood                        Medios de pago;Tiempo de espera;Costos de envi...\n",
              "Ifood                                         Tiempo de espera;Costos de envio\n",
              "...                                                                        ...\n",
              "Uber Eats                                                     Tiempo de espera\n",
              "Uber Eats                                                      Costos de envio\n",
              "Uber Eats                                      Metodos de pago;Costos de envio\n",
              "Uber Eats                                                      Costos de envio\n",
              "www.liferando.de                                              Tiempo de espera\n",
              "\n",
              "[159 rows x 1 columns]"
            ]
          },
          "metadata": {
            "tags": []
          },
          "execution_count": 19
        }
      ]
    },
    {
      "cell_type": "code",
      "metadata": {
        "colab": {
          "base_uri": "https://localhost:8080/",
          "height": 447
        },
        "id": "rkPgwygSwdxk",
        "outputId": "4cbe4cfa-7b0a-40ed-f9cf-7308058361b4"
      },
      "source": [
        "#@title Looking for call preferences\n",
        "df_llamada = df_issues.loc['Llamar directamente al restaurante',:]\n",
        "df_llamada\n"
      ],
      "execution_count": 20,
      "outputs": [
        {
          "output_type": "execute_result",
          "data": {
            "text/html": [
              "<div>\n",
              "<style scoped>\n",
              "    .dataframe tbody tr th:only-of-type {\n",
              "        vertical-align: middle;\n",
              "    }\n",
              "\n",
              "    .dataframe tbody tr th {\n",
              "        vertical-align: top;\n",
              "    }\n",
              "\n",
              "    .dataframe thead th {\n",
              "        text-align: right;\n",
              "    }\n",
              "</style>\n",
              "<table border=\"1\" class=\"dataframe\">\n",
              "  <thead>\n",
              "    <tr style=\"text-align: right;\">\n",
              "      <th></th>\n",
              "      <th>Problemas Domicilio</th>\n",
              "    </tr>\n",
              "    <tr>\n",
              "      <th>Medio Favorito Para Ordenar</th>\n",
              "      <th></th>\n",
              "    </tr>\n",
              "  </thead>\n",
              "  <tbody>\n",
              "    <tr>\n",
              "      <th>Llamar directamente al restaurante</th>\n",
              "      <td>Tiempo de espera</td>\n",
              "    </tr>\n",
              "    <tr>\n",
              "      <th>Llamar directamente al restaurante</th>\n",
              "      <td>Tiempo de espera</td>\n",
              "    </tr>\n",
              "    <tr>\n",
              "      <th>Llamar directamente al restaurante</th>\n",
              "      <td>Mala Comunicación/errores en la orden;Costos d...</td>\n",
              "    </tr>\n",
              "    <tr>\n",
              "      <th>Llamar directamente al restaurante</th>\n",
              "      <td>Tiempo de espera;Costos de envió</td>\n",
              "    </tr>\n",
              "    <tr>\n",
              "      <th>Llamar directamente al restaurante</th>\n",
              "      <td>Tiempo de espera;Costos de envió</td>\n",
              "    </tr>\n",
              "    <tr>\n",
              "      <th>...</th>\n",
              "      <td>...</td>\n",
              "    </tr>\n",
              "    <tr>\n",
              "      <th>Llamar directamente al restaurante</th>\n",
              "      <td>Mala Comunicación/errores en la orden;Tiempo d...</td>\n",
              "    </tr>\n",
              "    <tr>\n",
              "      <th>Llamar directamente al restaurante</th>\n",
              "      <td>Tiempo de espera;Costos de envio</td>\n",
              "    </tr>\n",
              "    <tr>\n",
              "      <th>Llamar directamente al restaurante</th>\n",
              "      <td>Tiempo de espera</td>\n",
              "    </tr>\n",
              "    <tr>\n",
              "      <th>Llamar directamente al restaurante</th>\n",
              "      <td>Costos de envio</td>\n",
              "    </tr>\n",
              "    <tr>\n",
              "      <th>Llamar directamente al restaurante</th>\n",
              "      <td>Tiempo de espera;Daños en el pedido/empaque</td>\n",
              "    </tr>\n",
              "  </tbody>\n",
              "</table>\n",
              "<p>85 rows × 1 columns</p>\n",
              "</div>"
            ],
            "text/plain": [
              "                                                                  Problemas Domicilio\n",
              "Medio Favorito Para Ordenar                                                          \n",
              "Llamar directamente al restaurante                                   Tiempo de espera\n",
              "Llamar directamente al restaurante                                   Tiempo de espera\n",
              "Llamar directamente al restaurante  Mala Comunicación/errores en la orden;Costos d...\n",
              "Llamar directamente al restaurante                   Tiempo de espera;Costos de envió\n",
              "Llamar directamente al restaurante                   Tiempo de espera;Costos de envió\n",
              "...                                                                               ...\n",
              "Llamar directamente al restaurante  Mala Comunicación/errores en la orden;Tiempo d...\n",
              "Llamar directamente al restaurante                   Tiempo de espera;Costos de envio\n",
              "Llamar directamente al restaurante                                   Tiempo de espera\n",
              "Llamar directamente al restaurante                                    Costos de envio\n",
              "Llamar directamente al restaurante        Tiempo de espera;Daños en el pedido/empaque\n",
              "\n",
              "[85 rows x 1 columns]"
            ]
          },
          "metadata": {
            "tags": []
          },
          "execution_count": 20
        }
      ]
    },
    {
      "cell_type": "markdown",
      "metadata": {
        "id": "ciPfFy4bdi6M"
      },
      "source": [
        "## Transforming to Dictionaries and Dataframes\n"
      ]
    },
    {
      "cell_type": "markdown",
      "metadata": {
        "id": "de61kK6adphn"
      },
      "source": [
        "### Frequencies Calculations"
      ]
    },
    {
      "cell_type": "code",
      "metadata": {
        "colab": {
          "base_uri": "https://localhost:8080/"
        },
        "id": "FLtS7V_UzCJR",
        "outputId": "0c422024-d1c4-410e-c722-09e4f8d60232"
      },
      "source": [
        "dict_redes = {}\n",
        "dict_redes['Whatsapp'] = df_redes['Cuales Redes Sociales'].str.count(\"Whatsapp\").sum()\n",
        "dict_redes['Instagram'] = df_redes['Cuales Redes Sociales'].str.count(\"Instagram\").sum()\n",
        "dict_redes['Facebook'] = df_redes['Cuales Redes Sociales'].str.count(\"Facebook\").sum()\n",
        "dict_redes['Twitter'] = df_redes['Cuales Redes Sociales'].str.count(\"Twitter\").sum()\n",
        "dict_redes['Telegram'] = df_redes['Cuales Redes Sociales'].str.count(\"Telegram\").sum()\n",
        "dict_redes['TikTok'] = df_redes['Cuales Redes Sociales'].str.count(\"Tiktok\").sum()\n",
        "\n",
        "dict_redes"
      ],
      "execution_count": 21,
      "outputs": [
        {
          "output_type": "execute_result",
          "data": {
            "text/plain": [
              "{'Facebook': 121.0,\n",
              " 'Instagram': 127.0,\n",
              " 'Telegram': 1.0,\n",
              " 'TikTok': 1.0,\n",
              " 'Twitter': 53.0,\n",
              " 'Whatsapp': 151.0}"
            ]
          },
          "metadata": {
            "tags": []
          },
          "execution_count": 21
        }
      ]
    },
    {
      "cell_type": "code",
      "metadata": {
        "colab": {
          "base_uri": "https://localhost:8080/",
          "height": 234
        },
        "id": "AfmrYRYKeofW",
        "outputId": "f892e499-b596-4abb-bcfb-7ca80500508b"
      },
      "source": [
        "#@title Social Network Dataframe\n",
        "df_redes_final = pd.DataFrame(dict_redes.items(), columns=['Red Social','Frecuencia'])\n",
        "df_redes_final"
      ],
      "execution_count": 26,
      "outputs": [
        {
          "output_type": "execute_result",
          "data": {
            "text/html": [
              "<div>\n",
              "<style scoped>\n",
              "    .dataframe tbody tr th:only-of-type {\n",
              "        vertical-align: middle;\n",
              "    }\n",
              "\n",
              "    .dataframe tbody tr th {\n",
              "        vertical-align: top;\n",
              "    }\n",
              "\n",
              "    .dataframe thead th {\n",
              "        text-align: right;\n",
              "    }\n",
              "</style>\n",
              "<table border=\"1\" class=\"dataframe\">\n",
              "  <thead>\n",
              "    <tr style=\"text-align: right;\">\n",
              "      <th></th>\n",
              "      <th>Red Social</th>\n",
              "      <th>Frecuencia</th>\n",
              "    </tr>\n",
              "  </thead>\n",
              "  <tbody>\n",
              "    <tr>\n",
              "      <th>0</th>\n",
              "      <td>Whatsapp</td>\n",
              "      <td>151.0</td>\n",
              "    </tr>\n",
              "    <tr>\n",
              "      <th>1</th>\n",
              "      <td>Instagram</td>\n",
              "      <td>127.0</td>\n",
              "    </tr>\n",
              "    <tr>\n",
              "      <th>2</th>\n",
              "      <td>Facebook</td>\n",
              "      <td>121.0</td>\n",
              "    </tr>\n",
              "    <tr>\n",
              "      <th>3</th>\n",
              "      <td>Twitter</td>\n",
              "      <td>53.0</td>\n",
              "    </tr>\n",
              "    <tr>\n",
              "      <th>4</th>\n",
              "      <td>Telegram</td>\n",
              "      <td>1.0</td>\n",
              "    </tr>\n",
              "    <tr>\n",
              "      <th>5</th>\n",
              "      <td>TikTok</td>\n",
              "      <td>1.0</td>\n",
              "    </tr>\n",
              "  </tbody>\n",
              "</table>\n",
              "</div>"
            ],
            "text/plain": [
              "  Red Social  Frecuencia\n",
              "0   Whatsapp       151.0\n",
              "1  Instagram       127.0\n",
              "2   Facebook       121.0\n",
              "3    Twitter        53.0\n",
              "4   Telegram         1.0\n",
              "5     TikTok         1.0"
            ]
          },
          "metadata": {
            "tags": []
          },
          "execution_count": 26
        }
      ]
    },
    {
      "cell_type": "code",
      "metadata": {
        "colab": {
          "base_uri": "https://localhost:8080/",
          "height": 234
        },
        "id": "ni9X6f2owwIb",
        "outputId": "1c5cbff1-19f5-44f7-9309-22e9b9db0dd1"
      },
      "source": [
        "#@title Call Issues Dictionary and Dataframe\n",
        "issues_llamada = {}\n",
        "issues_llamada['Tiempo de espera'] = df_llamada['Problemas Domicilio'].str.count(\"Tiempo de espera\").sum()\n",
        "issues_llamada['Errores en la orden']= df_llamada['Problemas Domicilio'].str.count(\"errores en la orden\").sum()\n",
        "issues_llamada['Costos de envío'] = df_llamada['Problemas Domicilio'].str.count(\"Costos de envió|Costos de envio\").sum()\n",
        "issues_llamada['Daños en el pedido'] = df_llamada['Problemas Domicilio'].str.count(\"Daños en el pedido\").sum()\n",
        "issues_llamada['Métodos de Pago'] = df_llamada['Problemas Domicilio'].str.count(\"Metodos de pago\").sum()\n",
        "issues_llamada['Mala Comunicación'] = df_llamada['Problemas Domicilio'].str.count(\"Mala Comunicación\").sum()\n",
        "issues_llamada['Daños en el pedido'] = df_llamada['Problemas Domicilio'].str.count(\"Daños en el pedido\").sum()\n",
        "\n",
        "df_llamada_issues = pd.DataFrame(issues_llamada.items(), columns=['Problema', 'Frequencia'])\n",
        "df_llamada_issues"
      ],
      "execution_count": 27,
      "outputs": [
        {
          "output_type": "execute_result",
          "data": {
            "text/html": [
              "<div>\n",
              "<style scoped>\n",
              "    .dataframe tbody tr th:only-of-type {\n",
              "        vertical-align: middle;\n",
              "    }\n",
              "\n",
              "    .dataframe tbody tr th {\n",
              "        vertical-align: top;\n",
              "    }\n",
              "\n",
              "    .dataframe thead th {\n",
              "        text-align: right;\n",
              "    }\n",
              "</style>\n",
              "<table border=\"1\" class=\"dataframe\">\n",
              "  <thead>\n",
              "    <tr style=\"text-align: right;\">\n",
              "      <th></th>\n",
              "      <th>Problema</th>\n",
              "      <th>Frequencia</th>\n",
              "    </tr>\n",
              "  </thead>\n",
              "  <tbody>\n",
              "    <tr>\n",
              "      <th>0</th>\n",
              "      <td>Tiempo de espera</td>\n",
              "      <td>56.0</td>\n",
              "    </tr>\n",
              "    <tr>\n",
              "      <th>1</th>\n",
              "      <td>Errores en la orden</td>\n",
              "      <td>23.0</td>\n",
              "    </tr>\n",
              "    <tr>\n",
              "      <th>2</th>\n",
              "      <td>Costos de envío</td>\n",
              "      <td>30.0</td>\n",
              "    </tr>\n",
              "    <tr>\n",
              "      <th>3</th>\n",
              "      <td>Daños en el pedido</td>\n",
              "      <td>23.0</td>\n",
              "    </tr>\n",
              "    <tr>\n",
              "      <th>4</th>\n",
              "      <td>Métodos de Pago</td>\n",
              "      <td>7.0</td>\n",
              "    </tr>\n",
              "    <tr>\n",
              "      <th>5</th>\n",
              "      <td>Mala Comunicación</td>\n",
              "      <td>23.0</td>\n",
              "    </tr>\n",
              "  </tbody>\n",
              "</table>\n",
              "</div>"
            ],
            "text/plain": [
              "              Problema  Frequencia\n",
              "0     Tiempo de espera        56.0\n",
              "1  Errores en la orden        23.0\n",
              "2      Costos de envío        30.0\n",
              "3   Daños en el pedido        23.0\n",
              "4      Métodos de Pago         7.0\n",
              "5    Mala Comunicación        23.0"
            ]
          },
          "metadata": {
            "tags": []
          },
          "execution_count": 27
        }
      ]
    },
    {
      "cell_type": "code",
      "metadata": {
        "id": "jgZ5eN1MLNJ2"
      },
      "source": [
        "#@title Finding Rappi\n",
        "#@title Select the value of the index you're looking for\n",
        "df_rappi = df_issues.loc['Rappi',:]\n",
        "df_rappi"
      ],
      "execution_count": null,
      "outputs": []
    },
    {
      "cell_type": "code",
      "metadata": {
        "colab": {
          "base_uri": "https://localhost:8080/"
        },
        "id": "2mVe5Bj2anZx",
        "outputId": "f88c9081-fdeb-449c-a92a-2e5aec97770d"
      },
      "source": [
        "df_rappi, df_rappi.shape"
      ],
      "execution_count": null,
      "outputs": [
        {
          "output_type": "execute_result",
          "data": {
            "text/plain": [
              "(                                                           Problemas Domicilio\n",
              " Medio Favorito Para Ordenar                                                   \n",
              " Rappi                        Mala Comunicación/errores en la orden;Tiempo d...\n",
              " Rappi                        Mala Comunicación/errores en la orden;Tiempo d...\n",
              " Rappi                                                         Tiempo de espera\n",
              " Rappi                                                         Tiempo de espera\n",
              " Rappi                         Metodos de pago;Tiempo de espera;Costos de envio\n",
              " Rappi                               Costos de envio;Daños en el pedido/empaque\n",
              " Rappi                                                         Tiempo de espera\n",
              " Rappi                        Mala Comunicación/errores en la orden;Tiempo d...\n",
              " Rappi                              Tiempo de espera;Daños en el pedido/empaque\n",
              " Rappi                                           Medios de pago;Costos de envió\n",
              " Rappi                              Tiempo de espera;Daños en el pedido/empaque\n",
              " Rappi                                                         Tiempo de espera\n",
              " Rappi                        Mala Comunicación/errores en la orden;Tiempo d...\n",
              " Rappi                        Mala Comunicación/errores en la orden;Tiempo d...\n",
              " Rappi                                         Tiempo de espera;Costos de envió\n",
              " Rappi                                                         Tiempo de espera\n",
              " Rappi                                         Tiempo de espera;Costos de envio\n",
              " Rappi                         Metodos de pago;Tiempo de espera;Costos de envio\n",
              " Rappi                                                         Tiempo de espera\n",
              " Rappi                                                          Costos de envio\n",
              " Rappi                              Tiempo de espera;Daños en el pedido/empaque\n",
              " Rappi                              Tiempo de espera;Daños en el pedido/empaque\n",
              " Rappi                                         Tiempo de espera;Costos de envio\n",
              " Rappi                               Costos de envio;Daños en el pedido/empaque\n",
              " Rappi                        Mala Comunicación/errores en la orden;Metodos ...\n",
              " Rappi                        Mala Comunicación/errores en la orden;Metodos ...\n",
              " Rappi                         Metodos de pago;Tiempo de espera;Costos de envio\n",
              " Rappi                                    Mala Comunicación/errores en la orden\n",
              " Rappi                                                         Tiempo de espera\n",
              " Rappi                        Mala Comunicación/errores en la orden;Metodos ...\n",
              " Rappi                                          Metodos de pago;Costos de envio\n",
              " Rappi                                         Tiempo de espera;Costos de envio\n",
              " Rappi                        Mala Comunicación/errores en la orden;Tiempo d...\n",
              " Rappi                        Tiempo de espera;Daños en el pedido/empaque;Co...\n",
              " Rappi                        Mala Comunicación/errores en la orden;Tiempo d...\n",
              " Rappi                                                          Costos de envió\n",
              " Rappi                                         Tiempo de espera;Costos de envio\n",
              " Rappi                                                         Tiempo de espera\n",
              " Rappi                                         Tiempo de espera;Costos de envió\n",
              " Rappi                                                          Costos de envió\n",
              " Rappi                                         Tiempo de espera;Costos de envió\n",
              " Rappi                               Costos de envió;Daños en el pedido/empaque\n",
              " Rappi                                         Tiempo de espera;Costos de envió\n",
              " Rappi                                         Tiempo de espera;Costos de envió\n",
              " Rappi                        Mala Comunicación/errores en la orden;Tiempo d...\n",
              " Rappi                                                         Tiempo de espera\n",
              " Rappi                                                         Tiempo de espera\n",
              " Rappi                              Tiempo de espera;Daños en el pedido/empaque,\n",
              " (48, 1))"
            ]
          },
          "metadata": {
            "tags": []
          },
          "execution_count": 19
        }
      ]
    },
    {
      "cell_type": "code",
      "metadata": {
        "colab": {
          "base_uri": "https://localhost:8080/",
          "height": 234
        },
        "id": "g_6TjaCggThU",
        "outputId": "8d472ccc-09e4-4ec3-f592-7c31022fb433"
      },
      "source": [
        "#@title Main Rappi issues\n",
        "issues = {}\n",
        "issues['Tiempo de espera'] = df_rappi['Problemas Domicilio'].str.count(\"Tiempo de espera\").sum()\n",
        "issues['Errores en la orden']= df_rappi['Problemas Domicilio'].str.count(\"errores en la orden\").sum()\n",
        "issues['Costos de envío'] = df_rappi['Problemas Domicilio'].str.count(\"Costos de envió|Costos de envio\").sum()\n",
        "issues['Daños en el pedido'] = df_rappi['Problemas Domicilio'].str.count(\"Daños en el pedido\").sum()\n",
        "issues['Métodos de Pago'] = df_rappi['Problemas Domicilio'].str.count(\"Metodos de pago\").sum()\n",
        "issues['Mala Comunicación'] = df_rappi['Problemas Domicilio'].str.count(\"Mala Comunicación\").sum()\n",
        "issues['Daños en el pedido'] = df_rappi['Problemas Domicilio'].str.count(\"Daños en el pedido\").sum()\n",
        "\n",
        "df_rappi_issues = pd.DataFrame(issues.items(), columns=['Problema', 'Frequencia'])\n",
        "df_rappi_issues"
      ],
      "execution_count": 28,
      "outputs": [
        {
          "output_type": "execute_result",
          "data": {
            "text/html": [
              "<div>\n",
              "<style scoped>\n",
              "    .dataframe tbody tr th:only-of-type {\n",
              "        vertical-align: middle;\n",
              "    }\n",
              "\n",
              "    .dataframe tbody tr th {\n",
              "        vertical-align: top;\n",
              "    }\n",
              "\n",
              "    .dataframe thead th {\n",
              "        text-align: right;\n",
              "    }\n",
              "</style>\n",
              "<table border=\"1\" class=\"dataframe\">\n",
              "  <thead>\n",
              "    <tr style=\"text-align: right;\">\n",
              "      <th></th>\n",
              "      <th>Problema</th>\n",
              "      <th>Frequencia</th>\n",
              "    </tr>\n",
              "  </thead>\n",
              "  <tbody>\n",
              "    <tr>\n",
              "      <th>0</th>\n",
              "      <td>Tiempo de espera</td>\n",
              "      <td>38</td>\n",
              "    </tr>\n",
              "    <tr>\n",
              "      <th>1</th>\n",
              "      <td>Errores en la orden</td>\n",
              "      <td>12</td>\n",
              "    </tr>\n",
              "    <tr>\n",
              "      <th>2</th>\n",
              "      <td>Costos de envío</td>\n",
              "      <td>25</td>\n",
              "    </tr>\n",
              "    <tr>\n",
              "      <th>3</th>\n",
              "      <td>Daños en el pedido</td>\n",
              "      <td>13</td>\n",
              "    </tr>\n",
              "    <tr>\n",
              "      <th>4</th>\n",
              "      <td>Métodos de Pago</td>\n",
              "      <td>7</td>\n",
              "    </tr>\n",
              "    <tr>\n",
              "      <th>5</th>\n",
              "      <td>Mala Comunicación</td>\n",
              "      <td>12</td>\n",
              "    </tr>\n",
              "  </tbody>\n",
              "</table>\n",
              "</div>"
            ],
            "text/plain": [
              "              Problema  Frequencia\n",
              "0     Tiempo de espera          38\n",
              "1  Errores en la orden          12\n",
              "2      Costos de envío          25\n",
              "3   Daños en el pedido          13\n",
              "4      Métodos de Pago           7\n",
              "5    Mala Comunicación          12"
            ]
          },
          "metadata": {
            "tags": []
          },
          "execution_count": 28
        }
      ]
    },
    {
      "cell_type": "markdown",
      "metadata": {
        "id": "uQV99gAfjjyx"
      },
      "source": [
        "### Save and Export "
      ]
    },
    {
      "cell_type": "code",
      "metadata": {
        "id": "pF_501DPfwFZ"
      },
      "source": [
        "#@title Save Social Network Preferences\n",
        "df_redes_final.to_csv('/content/drive/My Drive/redessociales.csv', encoding='utf-8', index=False)"
      ],
      "execution_count": null,
      "outputs": []
    },
    {
      "cell_type": "code",
      "metadata": {
        "id": "6N-Qjx81frmg"
      },
      "source": [
        "#@title Export Issues for call Preferences\n",
        "path_llamada = '/content/drive/My Drive/llamada_issues.csv'\n",
        "df_llamada_issues.to_csv(path_llamada, encoding='utf-8', index=False)"
      ],
      "execution_count": null,
      "outputs": []
    },
    {
      "cell_type": "code",
      "metadata": {
        "id": "6qFQLf0Irm2J"
      },
      "source": [
        "#@title Export Rappi vs Issues\n",
        "path_rappi = '/content/drive/My Drive/rappi_issues.csv'\n",
        "df_rappi_issues.to_csv(path_rappi, encoding='utf-8', index=False)"
      ],
      "execution_count": null,
      "outputs": []
    },
    {
      "cell_type": "markdown",
      "metadata": {
        "id": "3msHVyA_KgwX"
      },
      "source": [
        "## Age vs Social Media Preferences"
      ]
    },
    {
      "cell_type": "code",
      "metadata": {
        "id": "xO_fn81RE0QT",
        "colab": {
          "base_uri": "https://localhost:8080/"
        },
        "outputId": "f7dc487a-aa9a-4724-aaaf-1fcd2d05d966"
      },
      "source": [
        "df_rest.head(), df_rest.columns"
      ],
      "execution_count": 29,
      "outputs": [
        {
          "output_type": "execute_result",
          "data": {
            "text/plain": [
              "(            Edad  ...                                   Preferencias SM\n",
              " 0  Entre 20 y 35  ...                Promociones;Recetas/Tips de cocina\n",
              " 1  Entre 35 y 45  ...                         Promociones;Menu;Horarios\n",
              " 2    Mayor de 45  ...                                       Promociones\n",
              " 3  Entre 20 y 35  ...                                       Promociones\n",
              " 4  Entre 20 y 35  ...  Promociones;Menu;Recetas/Tips de cocina;Horarios\n",
              " \n",
              " [5 rows x 11 columns],\n",
              " Index(['Edad', 'Genero', 'Preferencias', 'Bioseguridad en restaurantes',\n",
              "        'Bioseguridad Despues de Pandemia', 'Comida Favorita a Domicilio',\n",
              "        'Problemas Domicilio', 'Medio Favorito Para Ordenar',\n",
              "        'Pedir por Internet', 'Cuales Redes Sociales', 'Preferencias SM'],\n",
              "       dtype='object'))"
            ]
          },
          "metadata": {
            "tags": []
          },
          "execution_count": 29
        }
      ]
    },
    {
      "cell_type": "code",
      "metadata": {
        "id": "NnJ0fS24E0W4",
        "colab": {
          "base_uri": "https://localhost:8080/",
          "height": 417
        },
        "outputId": "112d2f61-4d4d-48e8-9c6a-2d0240da7371"
      },
      "source": [
        "#@title Create a new data frame for analysis\n",
        "df_age_sm = df_rest[['Edad', 'Preferencias SM']].copy()\n",
        "df_age_sm"
      ],
      "execution_count": 30,
      "outputs": [
        {
          "output_type": "execute_result",
          "data": {
            "text/html": [
              "<div>\n",
              "<style scoped>\n",
              "    .dataframe tbody tr th:only-of-type {\n",
              "        vertical-align: middle;\n",
              "    }\n",
              "\n",
              "    .dataframe tbody tr th {\n",
              "        vertical-align: top;\n",
              "    }\n",
              "\n",
              "    .dataframe thead th {\n",
              "        text-align: right;\n",
              "    }\n",
              "</style>\n",
              "<table border=\"1\" class=\"dataframe\">\n",
              "  <thead>\n",
              "    <tr style=\"text-align: right;\">\n",
              "      <th></th>\n",
              "      <th>Edad</th>\n",
              "      <th>Preferencias SM</th>\n",
              "    </tr>\n",
              "  </thead>\n",
              "  <tbody>\n",
              "    <tr>\n",
              "      <th>0</th>\n",
              "      <td>Entre 20 y 35</td>\n",
              "      <td>Promociones;Recetas/Tips de cocina</td>\n",
              "    </tr>\n",
              "    <tr>\n",
              "      <th>1</th>\n",
              "      <td>Entre 35 y 45</td>\n",
              "      <td>Promociones;Menu;Horarios</td>\n",
              "    </tr>\n",
              "    <tr>\n",
              "      <th>2</th>\n",
              "      <td>Mayor de 45</td>\n",
              "      <td>Promociones</td>\n",
              "    </tr>\n",
              "    <tr>\n",
              "      <th>3</th>\n",
              "      <td>Entre 20 y 35</td>\n",
              "      <td>Promociones</td>\n",
              "    </tr>\n",
              "    <tr>\n",
              "      <th>4</th>\n",
              "      <td>Entre 20 y 35</td>\n",
              "      <td>Promociones;Menu;Recetas/Tips de cocina;Horarios</td>\n",
              "    </tr>\n",
              "    <tr>\n",
              "      <th>...</th>\n",
              "      <td>...</td>\n",
              "      <td>...</td>\n",
              "    </tr>\n",
              "    <tr>\n",
              "      <th>154</th>\n",
              "      <td>Entre 20 y 35</td>\n",
              "      <td>Promociones;Menu</td>\n",
              "    </tr>\n",
              "    <tr>\n",
              "      <th>155</th>\n",
              "      <td>Entre 20 y 35</td>\n",
              "      <td>Horarios</td>\n",
              "    </tr>\n",
              "    <tr>\n",
              "      <th>156</th>\n",
              "      <td>Entre 35 y 45</td>\n",
              "      <td>Menu;Horarios</td>\n",
              "    </tr>\n",
              "    <tr>\n",
              "      <th>157</th>\n",
              "      <td>Entre 20 y 35</td>\n",
              "      <td>Promociones;Menu</td>\n",
              "    </tr>\n",
              "    <tr>\n",
              "      <th>158</th>\n",
              "      <td>Entre 20 y 35</td>\n",
              "      <td>Promociones</td>\n",
              "    </tr>\n",
              "  </tbody>\n",
              "</table>\n",
              "<p>159 rows × 2 columns</p>\n",
              "</div>"
            ],
            "text/plain": [
              "              Edad                                   Preferencias SM\n",
              "0    Entre 20 y 35                Promociones;Recetas/Tips de cocina\n",
              "1    Entre 35 y 45                         Promociones;Menu;Horarios\n",
              "2      Mayor de 45                                       Promociones\n",
              "3    Entre 20 y 35                                       Promociones\n",
              "4    Entre 20 y 35  Promociones;Menu;Recetas/Tips de cocina;Horarios\n",
              "..             ...                                               ...\n",
              "154  Entre 20 y 35                                  Promociones;Menu\n",
              "155  Entre 20 y 35                                          Horarios\n",
              "156  Entre 35 y 45                                     Menu;Horarios\n",
              "157  Entre 20 y 35                                  Promociones;Menu\n",
              "158  Entre 20 y 35                                       Promociones\n",
              "\n",
              "[159 rows x 2 columns]"
            ]
          },
          "metadata": {
            "tags": []
          },
          "execution_count": 30
        }
      ]
    },
    {
      "cell_type": "code",
      "metadata": {
        "id": "u6GLcgdFE0eT",
        "colab": {
          "base_uri": "https://localhost:8080/",
          "height": 447
        },
        "outputId": "69c22d66-8b38-4880-dc55-9226e87bf10e"
      },
      "source": [
        "#@title Set and sort index\n",
        "df_ageind_sm = df_age_sm.set_index(['Edad']).sort_index()\n",
        "df_ageind_sm"
      ],
      "execution_count": 31,
      "outputs": [
        {
          "output_type": "execute_result",
          "data": {
            "text/html": [
              "<div>\n",
              "<style scoped>\n",
              "    .dataframe tbody tr th:only-of-type {\n",
              "        vertical-align: middle;\n",
              "    }\n",
              "\n",
              "    .dataframe tbody tr th {\n",
              "        vertical-align: top;\n",
              "    }\n",
              "\n",
              "    .dataframe thead th {\n",
              "        text-align: right;\n",
              "    }\n",
              "</style>\n",
              "<table border=\"1\" class=\"dataframe\">\n",
              "  <thead>\n",
              "    <tr style=\"text-align: right;\">\n",
              "      <th></th>\n",
              "      <th>Preferencias SM</th>\n",
              "    </tr>\n",
              "    <tr>\n",
              "      <th>Edad</th>\n",
              "      <th></th>\n",
              "    </tr>\n",
              "  </thead>\n",
              "  <tbody>\n",
              "    <tr>\n",
              "      <th>Entre 20 y 35</th>\n",
              "      <td>Promociones;Recetas/Tips de cocina</td>\n",
              "    </tr>\n",
              "    <tr>\n",
              "      <th>Entre 20 y 35</th>\n",
              "      <td>Promociones;Menu;Horarios</td>\n",
              "    </tr>\n",
              "    <tr>\n",
              "      <th>Entre 20 y 35</th>\n",
              "      <td>Promociones;Menu;Recetas/Tips de cocina</td>\n",
              "    </tr>\n",
              "    <tr>\n",
              "      <th>Entre 20 y 35</th>\n",
              "      <td>Promociones;Menu;Horarios</td>\n",
              "    </tr>\n",
              "    <tr>\n",
              "      <th>Entre 20 y 35</th>\n",
              "      <td>Promociones;Menu</td>\n",
              "    </tr>\n",
              "    <tr>\n",
              "      <th>...</th>\n",
              "      <td>...</td>\n",
              "    </tr>\n",
              "    <tr>\n",
              "      <th>Mayor de 45</th>\n",
              "      <td>Promociones;Menu;Horarios</td>\n",
              "    </tr>\n",
              "    <tr>\n",
              "      <th>Mayor de 45</th>\n",
              "      <td>Promociones</td>\n",
              "    </tr>\n",
              "    <tr>\n",
              "      <th>Mayor de 45</th>\n",
              "      <td>Recetas/Tips de cocina</td>\n",
              "    </tr>\n",
              "    <tr>\n",
              "      <th>Menor de 20</th>\n",
              "      <td>Menu;Recetas/Tips de cocina;Horarios</td>\n",
              "    </tr>\n",
              "    <tr>\n",
              "      <th>Menor de 20</th>\n",
              "      <td>Promociones;Menu;Recetas/Tips de cocina;Horarios</td>\n",
              "    </tr>\n",
              "  </tbody>\n",
              "</table>\n",
              "<p>159 rows × 1 columns</p>\n",
              "</div>"
            ],
            "text/plain": [
              "                                                Preferencias SM\n",
              "Edad                                                           \n",
              "Entre 20 y 35                Promociones;Recetas/Tips de cocina\n",
              "Entre 20 y 35                         Promociones;Menu;Horarios\n",
              "Entre 20 y 35           Promociones;Menu;Recetas/Tips de cocina\n",
              "Entre 20 y 35                         Promociones;Menu;Horarios\n",
              "Entre 20 y 35                                  Promociones;Menu\n",
              "...                                                         ...\n",
              "Mayor de 45                           Promociones;Menu;Horarios\n",
              "Mayor de 45                                         Promociones\n",
              "Mayor de 45                              Recetas/Tips de cocina\n",
              "Menor de 20                Menu;Recetas/Tips de cocina;Horarios\n",
              "Menor de 20    Promociones;Menu;Recetas/Tips de cocina;Horarios\n",
              "\n",
              "[159 rows x 1 columns]"
            ]
          },
          "metadata": {
            "tags": []
          },
          "execution_count": 31
        }
      ]
    },
    {
      "cell_type": "code",
      "metadata": {
        "id": "jhUEf9-VGPPa"
      },
      "source": [
        "#@title Reordering\n",
        "df_menor20 = df_ageind_sm.loc['Menor de 20',:]\n",
        "df_20_35 = df_ageind_sm.loc['Entre 20 y 35',:]\n",
        "df_35_45 = df_ageind_sm.loc['Entre 35 y 45',:]\n",
        "df_mayor45 = df_ageind_sm.loc['Mayor de 45',:]\n",
        "df_menor20, df_20_35, df_35_45, df_mayor45"
      ],
      "execution_count": null,
      "outputs": []
    },
    {
      "cell_type": "markdown",
      "metadata": {
        "id": "BzmKi4K2i2Pv"
      },
      "source": [
        "### Dictionaries and Dataframes for AGE and SM Preferences"
      ]
    },
    {
      "cell_type": "code",
      "metadata": {
        "id": "gjEe2FT7GPVa",
        "colab": {
          "base_uri": "https://localhost:8080/",
          "height": 172
        },
        "outputId": "af181f33-0fbb-480d-efd4-65a89adea015"
      },
      "source": [
        "#@title Filtering the dataset\n",
        "age_dic_sm = {}\n",
        "age_dic_sm_20_35 = {}\n",
        "age_dic_sm_35_45 = {}\n",
        "age_dic_sm_mayor45 = {}\n",
        "\n",
        "age_dic_sm['Promociones'] = df_menor20['Preferencias SM'].str.count(\"Promociones\").sum()\n",
        "age_dic_sm['Menu']= df_menor20['Preferencias SM'].str.count(\"Menu\").sum()\n",
        "age_dic_sm['Recetas y tips'] = df_menor20['Preferencias SM'].str.count(\"Recetas\").sum()\n",
        "age_dic_sm['Horarios'] = df_menor20['Preferencias SM'].str.count(\"Horarios\").sum()\n",
        "\n",
        "age_dic_sm_20_35['Promociones'] = df_20_35['Preferencias SM'].str.count(\"Promociones\").sum()\n",
        "age_dic_sm_20_35['Menu']= df_20_35['Preferencias SM'].str.count(\"Menu\").sum()\n",
        "age_dic_sm_20_35['Recetas y tips'] = df_20_35['Preferencias SM'].str.count(\"Recetas\").sum()\n",
        "age_dic_sm_20_35['Horarios'] = df_20_35['Preferencias SM'].str.count(\"Horarios\").sum()\n",
        "\n",
        "age_dic_sm_35_45['Promociones'] = df_35_45['Preferencias SM'].str.count(\"Promociones\").sum()\n",
        "age_dic_sm_35_45['Menu']= df_35_45['Preferencias SM'].str.count(\"Menu\").sum()\n",
        "age_dic_sm_35_45['Recetas y tips'] = df_35_45['Preferencias SM'].str.count(\"Recetas\").sum()\n",
        "age_dic_sm_35_45['Horarios'] = df_35_45['Preferencias SM'].str.count(\"Horarios\").sum()\n",
        "\n",
        "age_dic_sm_mayor45['Promociones'] = df_mayor45['Preferencias SM'].str.count(\"Promociones\").sum()\n",
        "age_dic_sm_mayor45['Menu']= df_mayor45['Preferencias SM'].str.count(\"Menu\").sum()\n",
        "age_dic_sm_mayor45['Recetas y tips'] = df_mayor45['Preferencias SM'].str.count(\"Recetas\").sum()\n",
        "age_dic_sm_mayor45['Horarios'] = df_mayor45['Preferencias SM'].str.count(\"Horarios\").sum()\n",
        "\n",
        "\n",
        "dict_list = [age_dic_sm, age_dic_sm_20_35, age_dic_sm_35_45, age_dic_sm_mayor45]\n",
        "df_result = pd.DataFrame(dict_list, index=['Menor de 20','Entre 20 y 35', 'Entre 35 y 45', 'Mayor de 45'])\n",
        "df_result\n"
      ],
      "execution_count": 33,
      "outputs": [
        {
          "output_type": "execute_result",
          "data": {
            "text/html": [
              "<div>\n",
              "<style scoped>\n",
              "    .dataframe tbody tr th:only-of-type {\n",
              "        vertical-align: middle;\n",
              "    }\n",
              "\n",
              "    .dataframe tbody tr th {\n",
              "        vertical-align: top;\n",
              "    }\n",
              "\n",
              "    .dataframe thead th {\n",
              "        text-align: right;\n",
              "    }\n",
              "</style>\n",
              "<table border=\"1\" class=\"dataframe\">\n",
              "  <thead>\n",
              "    <tr style=\"text-align: right;\">\n",
              "      <th></th>\n",
              "      <th>Promociones</th>\n",
              "      <th>Menu</th>\n",
              "      <th>Recetas y tips</th>\n",
              "      <th>Horarios</th>\n",
              "    </tr>\n",
              "  </thead>\n",
              "  <tbody>\n",
              "    <tr>\n",
              "      <th>Menor de 20</th>\n",
              "      <td>1.0</td>\n",
              "      <td>2.0</td>\n",
              "      <td>2.0</td>\n",
              "      <td>2.0</td>\n",
              "    </tr>\n",
              "    <tr>\n",
              "      <th>Entre 20 y 35</th>\n",
              "      <td>97.0</td>\n",
              "      <td>78.0</td>\n",
              "      <td>36.0</td>\n",
              "      <td>52.0</td>\n",
              "    </tr>\n",
              "    <tr>\n",
              "      <th>Entre 35 y 45</th>\n",
              "      <td>23.0</td>\n",
              "      <td>16.0</td>\n",
              "      <td>11.0</td>\n",
              "      <td>13.0</td>\n",
              "    </tr>\n",
              "    <tr>\n",
              "      <th>Mayor de 45</th>\n",
              "      <td>18.0</td>\n",
              "      <td>15.0</td>\n",
              "      <td>10.0</td>\n",
              "      <td>9.0</td>\n",
              "    </tr>\n",
              "  </tbody>\n",
              "</table>\n",
              "</div>"
            ],
            "text/plain": [
              "               Promociones  Menu  Recetas y tips  Horarios\n",
              "Menor de 20            1.0   2.0             2.0       2.0\n",
              "Entre 20 y 35         97.0  78.0            36.0      52.0\n",
              "Entre 35 y 45         23.0  16.0            11.0      13.0\n",
              "Mayor de 45           18.0  15.0            10.0       9.0"
            ]
          },
          "metadata": {
            "tags": []
          },
          "execution_count": 33
        }
      ]
    },
    {
      "cell_type": "code",
      "metadata": {
        "id": "_ts3gw5hKkEI",
        "colab": {
          "base_uri": "https://localhost:8080/",
          "height": 203
        },
        "outputId": "972ac276-bf78-4427-e56b-3b0be83104d1"
      },
      "source": [
        "df_result = df_result.astype(int)\n",
        "df_result.index.name='Edad'\n",
        "df_result"
      ],
      "execution_count": 34,
      "outputs": [
        {
          "output_type": "execute_result",
          "data": {
            "text/html": [
              "<div>\n",
              "<style scoped>\n",
              "    .dataframe tbody tr th:only-of-type {\n",
              "        vertical-align: middle;\n",
              "    }\n",
              "\n",
              "    .dataframe tbody tr th {\n",
              "        vertical-align: top;\n",
              "    }\n",
              "\n",
              "    .dataframe thead th {\n",
              "        text-align: right;\n",
              "    }\n",
              "</style>\n",
              "<table border=\"1\" class=\"dataframe\">\n",
              "  <thead>\n",
              "    <tr style=\"text-align: right;\">\n",
              "      <th></th>\n",
              "      <th>Promociones</th>\n",
              "      <th>Menu</th>\n",
              "      <th>Recetas y tips</th>\n",
              "      <th>Horarios</th>\n",
              "    </tr>\n",
              "    <tr>\n",
              "      <th>Edad</th>\n",
              "      <th></th>\n",
              "      <th></th>\n",
              "      <th></th>\n",
              "      <th></th>\n",
              "    </tr>\n",
              "  </thead>\n",
              "  <tbody>\n",
              "    <tr>\n",
              "      <th>Menor de 20</th>\n",
              "      <td>1</td>\n",
              "      <td>2</td>\n",
              "      <td>2</td>\n",
              "      <td>2</td>\n",
              "    </tr>\n",
              "    <tr>\n",
              "      <th>Entre 20 y 35</th>\n",
              "      <td>97</td>\n",
              "      <td>78</td>\n",
              "      <td>36</td>\n",
              "      <td>52</td>\n",
              "    </tr>\n",
              "    <tr>\n",
              "      <th>Entre 35 y 45</th>\n",
              "      <td>23</td>\n",
              "      <td>16</td>\n",
              "      <td>11</td>\n",
              "      <td>13</td>\n",
              "    </tr>\n",
              "    <tr>\n",
              "      <th>Mayor de 45</th>\n",
              "      <td>18</td>\n",
              "      <td>15</td>\n",
              "      <td>10</td>\n",
              "      <td>9</td>\n",
              "    </tr>\n",
              "  </tbody>\n",
              "</table>\n",
              "</div>"
            ],
            "text/plain": [
              "               Promociones  Menu  Recetas y tips  Horarios\n",
              "Edad                                                      \n",
              "Menor de 20              1     2               2         2\n",
              "Entre 20 y 35           97    78              36        52\n",
              "Entre 35 y 45           23    16              11        13\n",
              "Mayor de 45             18    15              10         9"
            ]
          },
          "metadata": {
            "tags": []
          },
          "execution_count": 34
        }
      ]
    },
    {
      "cell_type": "markdown",
      "metadata": {
        "id": "l5uxsPiGjTRJ"
      },
      "source": [
        "### Save and Export"
      ]
    },
    {
      "cell_type": "code",
      "metadata": {
        "id": "Yr12z8fWKkKk"
      },
      "source": [
        "#@title Save  Age vs SM Preferences\n",
        "path_smpreferences = '/content/drive/My Drive/age_sm.csv'\n",
        "df_result.to_csv(path_smpreferences, encoding='utf-8')"
      ],
      "execution_count": null,
      "outputs": []
    },
    {
      "cell_type": "markdown",
      "metadata": {
        "id": "0NsLCXxBYPgI"
      },
      "source": [
        "## Including the gender"
      ]
    },
    {
      "cell_type": "code",
      "metadata": {
        "colab": {
          "base_uri": "https://localhost:8080/"
        },
        "id": "yVGfmYxElGhk",
        "outputId": "a76b3c1b-d6bd-4780-e3fa-04e5ecdde117"
      },
      "source": [
        "df_rest.head"
      ],
      "execution_count": 37,
      "outputs": [
        {
          "output_type": "execute_result",
          "data": {
            "text/plain": [
              "<bound method NDFrame.head of               Edad  ...                                   Preferencias SM\n",
              "0    Entre 20 y 35  ...                Promociones;Recetas/Tips de cocina\n",
              "1    Entre 35 y 45  ...                         Promociones;Menu;Horarios\n",
              "2      Mayor de 45  ...                                       Promociones\n",
              "3    Entre 20 y 35  ...                                       Promociones\n",
              "4    Entre 20 y 35  ...  Promociones;Menu;Recetas/Tips de cocina;Horarios\n",
              "..             ...  ...                                               ...\n",
              "154  Entre 20 y 35  ...                                  Promociones;Menu\n",
              "155  Entre 20 y 35  ...                                          Horarios\n",
              "156  Entre 35 y 45  ...                                     Menu;Horarios\n",
              "157  Entre 20 y 35  ...                                  Promociones;Menu\n",
              "158  Entre 20 y 35  ...                                       Promociones\n",
              "\n",
              "[159 rows x 11 columns]>"
            ]
          },
          "metadata": {
            "tags": []
          },
          "execution_count": 37
        }
      ]
    },
    {
      "cell_type": "code",
      "metadata": {
        "id": "uex-8S35YQCN",
        "colab": {
          "base_uri": "https://localhost:8080/",
          "height": 417
        },
        "outputId": "194c6df6-8a61-4a4e-b931-e8f484d6b45b"
      },
      "source": [
        "#@title Add gender column\n",
        "df_complete = df_rest[['Edad', 'Genero', 'Preferencias SM']].copy()\n",
        "\n",
        "df_complete"
      ],
      "execution_count": 38,
      "outputs": [
        {
          "output_type": "execute_result",
          "data": {
            "text/html": [
              "<div>\n",
              "<style scoped>\n",
              "    .dataframe tbody tr th:only-of-type {\n",
              "        vertical-align: middle;\n",
              "    }\n",
              "\n",
              "    .dataframe tbody tr th {\n",
              "        vertical-align: top;\n",
              "    }\n",
              "\n",
              "    .dataframe thead th {\n",
              "        text-align: right;\n",
              "    }\n",
              "</style>\n",
              "<table border=\"1\" class=\"dataframe\">\n",
              "  <thead>\n",
              "    <tr style=\"text-align: right;\">\n",
              "      <th></th>\n",
              "      <th>Edad</th>\n",
              "      <th>Genero</th>\n",
              "      <th>Preferencias SM</th>\n",
              "    </tr>\n",
              "  </thead>\n",
              "  <tbody>\n",
              "    <tr>\n",
              "      <th>0</th>\n",
              "      <td>Entre 20 y 35</td>\n",
              "      <td>Masculino</td>\n",
              "      <td>Promociones;Recetas/Tips de cocina</td>\n",
              "    </tr>\n",
              "    <tr>\n",
              "      <th>1</th>\n",
              "      <td>Entre 35 y 45</td>\n",
              "      <td>Masculino</td>\n",
              "      <td>Promociones;Menu;Horarios</td>\n",
              "    </tr>\n",
              "    <tr>\n",
              "      <th>2</th>\n",
              "      <td>Mayor de 45</td>\n",
              "      <td>Femenino</td>\n",
              "      <td>Promociones</td>\n",
              "    </tr>\n",
              "    <tr>\n",
              "      <th>3</th>\n",
              "      <td>Entre 20 y 35</td>\n",
              "      <td>Femenino</td>\n",
              "      <td>Promociones</td>\n",
              "    </tr>\n",
              "    <tr>\n",
              "      <th>4</th>\n",
              "      <td>Entre 20 y 35</td>\n",
              "      <td>Masculino</td>\n",
              "      <td>Promociones;Menu;Recetas/Tips de cocina;Horarios</td>\n",
              "    </tr>\n",
              "    <tr>\n",
              "      <th>...</th>\n",
              "      <td>...</td>\n",
              "      <td>...</td>\n",
              "      <td>...</td>\n",
              "    </tr>\n",
              "    <tr>\n",
              "      <th>154</th>\n",
              "      <td>Entre 20 y 35</td>\n",
              "      <td>Masculino</td>\n",
              "      <td>Promociones;Menu</td>\n",
              "    </tr>\n",
              "    <tr>\n",
              "      <th>155</th>\n",
              "      <td>Entre 20 y 35</td>\n",
              "      <td>Femenino</td>\n",
              "      <td>Horarios</td>\n",
              "    </tr>\n",
              "    <tr>\n",
              "      <th>156</th>\n",
              "      <td>Entre 35 y 45</td>\n",
              "      <td>Femenino</td>\n",
              "      <td>Menu;Horarios</td>\n",
              "    </tr>\n",
              "    <tr>\n",
              "      <th>157</th>\n",
              "      <td>Entre 20 y 35</td>\n",
              "      <td>Femenino</td>\n",
              "      <td>Promociones;Menu</td>\n",
              "    </tr>\n",
              "    <tr>\n",
              "      <th>158</th>\n",
              "      <td>Entre 20 y 35</td>\n",
              "      <td>Femenino</td>\n",
              "      <td>Promociones</td>\n",
              "    </tr>\n",
              "  </tbody>\n",
              "</table>\n",
              "<p>159 rows × 3 columns</p>\n",
              "</div>"
            ],
            "text/plain": [
              "              Edad     Genero                                   Preferencias SM\n",
              "0    Entre 20 y 35  Masculino                Promociones;Recetas/Tips de cocina\n",
              "1    Entre 35 y 45  Masculino                         Promociones;Menu;Horarios\n",
              "2      Mayor de 45   Femenino                                       Promociones\n",
              "3    Entre 20 y 35   Femenino                                       Promociones\n",
              "4    Entre 20 y 35  Masculino  Promociones;Menu;Recetas/Tips de cocina;Horarios\n",
              "..             ...        ...                                               ...\n",
              "154  Entre 20 y 35  Masculino                                  Promociones;Menu\n",
              "155  Entre 20 y 35   Femenino                                          Horarios\n",
              "156  Entre 35 y 45   Femenino                                     Menu;Horarios\n",
              "157  Entre 20 y 35   Femenino                                  Promociones;Menu\n",
              "158  Entre 20 y 35   Femenino                                       Promociones\n",
              "\n",
              "[159 rows x 3 columns]"
            ]
          },
          "metadata": {
            "tags": []
          },
          "execution_count": 38
        }
      ]
    },
    {
      "cell_type": "code",
      "metadata": {
        "id": "dxIjEkH8laBu"
      },
      "source": [
        "dftest = df_complete.loc['Entre 20 y 35',:]\n",
        "dftest"
      ],
      "execution_count": null,
      "outputs": []
    },
    {
      "cell_type": "code",
      "metadata": {
        "id": "ILc0HoAwmHLg",
        "colab": {
          "base_uri": "https://localhost:8080/",
          "height": 172
        },
        "outputId": "531fffdd-8f4b-4efe-be10-4d6380526b61"
      },
      "source": [
        "df_complete.describe()"
      ],
      "execution_count": 39,
      "outputs": [
        {
          "output_type": "execute_result",
          "data": {
            "text/html": [
              "<div>\n",
              "<style scoped>\n",
              "    .dataframe tbody tr th:only-of-type {\n",
              "        vertical-align: middle;\n",
              "    }\n",
              "\n",
              "    .dataframe tbody tr th {\n",
              "        vertical-align: top;\n",
              "    }\n",
              "\n",
              "    .dataframe thead th {\n",
              "        text-align: right;\n",
              "    }\n",
              "</style>\n",
              "<table border=\"1\" class=\"dataframe\">\n",
              "  <thead>\n",
              "    <tr style=\"text-align: right;\">\n",
              "      <th></th>\n",
              "      <th>Edad</th>\n",
              "      <th>Genero</th>\n",
              "      <th>Preferencias SM</th>\n",
              "    </tr>\n",
              "  </thead>\n",
              "  <tbody>\n",
              "    <tr>\n",
              "      <th>count</th>\n",
              "      <td>159</td>\n",
              "      <td>159</td>\n",
              "      <td>157</td>\n",
              "    </tr>\n",
              "    <tr>\n",
              "      <th>unique</th>\n",
              "      <td>4</td>\n",
              "      <td>2</td>\n",
              "      <td>16</td>\n",
              "    </tr>\n",
              "    <tr>\n",
              "      <th>top</th>\n",
              "      <td>Entre 20 y 35</td>\n",
              "      <td>Femenino</td>\n",
              "      <td>Promociones;Menu;Horarios</td>\n",
              "    </tr>\n",
              "    <tr>\n",
              "      <th>freq</th>\n",
              "      <td>107</td>\n",
              "      <td>97</td>\n",
              "      <td>32</td>\n",
              "    </tr>\n",
              "  </tbody>\n",
              "</table>\n",
              "</div>"
            ],
            "text/plain": [
              "                 Edad    Genero            Preferencias SM\n",
              "count             159       159                        157\n",
              "unique              4         2                         16\n",
              "top     Entre 20 y 35  Femenino  Promociones;Menu;Horarios\n",
              "freq              107        97                         32"
            ]
          },
          "metadata": {
            "tags": []
          },
          "execution_count": 39
        }
      ]
    },
    {
      "cell_type": "code",
      "metadata": {
        "id": "c85vl0F-oiw7",
        "colab": {
          "base_uri": "https://localhost:8080/",
          "height": 110
        },
        "outputId": "807e3040-9d62-4f7b-dac8-aa427fd1e19d"
      },
      "source": [
        "df_complete.loc[(df_complete['Edad']=='Menor de 20') & (df_complete['Genero']=='Femenino')]"
      ],
      "execution_count": 40,
      "outputs": [
        {
          "output_type": "execute_result",
          "data": {
            "text/html": [
              "<div>\n",
              "<style scoped>\n",
              "    .dataframe tbody tr th:only-of-type {\n",
              "        vertical-align: middle;\n",
              "    }\n",
              "\n",
              "    .dataframe tbody tr th {\n",
              "        vertical-align: top;\n",
              "    }\n",
              "\n",
              "    .dataframe thead th {\n",
              "        text-align: right;\n",
              "    }\n",
              "</style>\n",
              "<table border=\"1\" class=\"dataframe\">\n",
              "  <thead>\n",
              "    <tr style=\"text-align: right;\">\n",
              "      <th></th>\n",
              "      <th>Edad</th>\n",
              "      <th>Genero</th>\n",
              "      <th>Preferencias SM</th>\n",
              "    </tr>\n",
              "  </thead>\n",
              "  <tbody>\n",
              "    <tr>\n",
              "      <th>42</th>\n",
              "      <td>Menor de 20</td>\n",
              "      <td>Femenino</td>\n",
              "      <td>Promociones;Menu;Recetas/Tips de cocina;Horarios</td>\n",
              "    </tr>\n",
              "    <tr>\n",
              "      <th>57</th>\n",
              "      <td>Menor de 20</td>\n",
              "      <td>Femenino</td>\n",
              "      <td>Menu;Recetas/Tips de cocina;Horarios</td>\n",
              "    </tr>\n",
              "  </tbody>\n",
              "</table>\n",
              "</div>"
            ],
            "text/plain": [
              "           Edad    Genero                                   Preferencias SM\n",
              "42  Menor de 20  Femenino  Promociones;Menu;Recetas/Tips de cocina;Horarios\n",
              "57  Menor de 20  Femenino              Menu;Recetas/Tips de cocina;Horarios"
            ]
          },
          "metadata": {
            "tags": []
          },
          "execution_count": 40
        }
      ]
    },
    {
      "cell_type": "code",
      "metadata": {
        "id": "pfg_y6RDmW9u",
        "colab": {
          "base_uri": "https://localhost:8080/"
        },
        "outputId": "0b5087e7-84b9-4d6b-d5c8-beeed049ec96"
      },
      "source": [
        "#@title Dataframe preferences by age and gender\n",
        "df_menor20f = df_complete.loc[(df_complete['Edad']=='Menor de 20') & (df_complete['Genero']=='Femenino')]\n",
        "df_menor20m = df_complete.loc[(df_complete['Edad']=='Menor de 20') & (df_complete['Genero']=='Masculino')]\n",
        "df_20_35f = df_complete.loc[(df_complete['Edad']=='Entre 20 y 35') & (df_complete['Genero']=='Femenino')]\n",
        "df_20_35m = df_complete.loc[(df_complete['Edad']=='Entre 20 y 35') & (df_complete['Genero']=='Masculino')]\n",
        "df_35_45f = df_complete.loc[(df_complete['Edad']=='Entre 35 y 45') & (df_complete['Genero']=='Femenino')]\n",
        "df_35_45m = df_complete.loc[(df_complete['Edad']=='Entre 35 y 45') & (df_complete['Genero']=='Masculino')]\n",
        "df_mayor_45f = df_complete.loc[(df_complete['Edad']=='Mayor de 45') & (df_complete['Genero']=='Femenino')]\n",
        "df_mayor_45m = df_complete.loc[(df_complete['Edad']=='Mayor de 45') & (df_complete['Genero']=='Masculino')]\n",
        "\n",
        "\n",
        "df_menor20f, df_20_35f, df_20_35m"
      ],
      "execution_count": 41,
      "outputs": [
        {
          "output_type": "execute_result",
          "data": {
            "text/plain": [
              "(           Edad    Genero                                   Preferencias SM\n",
              " 42  Menor de 20  Femenino  Promociones;Menu;Recetas/Tips de cocina;Horarios\n",
              " 57  Menor de 20  Femenino              Menu;Recetas/Tips de cocina;Horarios,\n",
              "               Edad    Genero              Preferencias SM\n",
              " 3    Entre 20 y 35  Femenino                  Promociones\n",
              " 12   Entre 20 y 35  Femenino                  Promociones\n",
              " 14   Entre 20 y 35  Femenino         Promociones;Horarios\n",
              " 21   Entre 20 y 35  Femenino  Menu;Recetas/Tips de cocina\n",
              " 22   Entre 20 y 35  Femenino    Promociones;Menu;Horarios\n",
              " ..             ...       ...                          ...\n",
              " 149  Entre 20 y 35  Femenino    Promociones;Menu;Horarios\n",
              " 153  Entre 20 y 35  Femenino    Promociones;Menu;Horarios\n",
              " 155  Entre 20 y 35  Femenino                     Horarios\n",
              " 157  Entre 20 y 35  Femenino             Promociones;Menu\n",
              " 158  Entre 20 y 35  Femenino                  Promociones\n",
              " \n",
              " [69 rows x 3 columns],\n",
              "               Edad     Genero                                   Preferencias SM\n",
              " 0    Entre 20 y 35  Masculino                Promociones;Recetas/Tips de cocina\n",
              " 4    Entre 20 y 35  Masculino  Promociones;Menu;Recetas/Tips de cocina;Horarios\n",
              " 8    Entre 20 y 35  Masculino  Promociones;Menu;Recetas/Tips de cocina;Horarios\n",
              " 9    Entre 20 y 35  Masculino                                               NaN\n",
              " 16   Entre 20 y 35  Masculino  Promociones;Menu;Recetas/Tips de cocina;Horarios\n",
              " 17   Entre 20 y 35  Masculino                                  Promociones;Menu\n",
              " 18   Entre 20 y 35  Masculino                              Promociones;Horarios\n",
              " 19   Entre 20 y 35  Masculino                         Promociones;Menu;Horarios\n",
              " 20   Entre 20 y 35  Masculino  Promociones;Menu;Recetas/Tips de cocina;Horarios\n",
              " 33   Entre 20 y 35  Masculino                                       Promociones\n",
              " 49   Entre 20 y 35  Masculino                                  Promociones;Menu\n",
              " 51   Entre 20 y 35  Masculino                                       Promociones\n",
              " 53   Entre 20 y 35  Masculino                         Promociones;Menu;Horarios\n",
              " 56   Entre 20 y 35  Masculino                         Promociones;Menu;Horarios\n",
              " 71   Entre 20 y 35  Masculino                         Promociones;Menu;Horarios\n",
              " 75   Entre 20 y 35  Masculino           Promociones;Menu;Recetas/Tips de cocina\n",
              " 80   Entre 20 y 35  Masculino  Promociones;Menu;Recetas/Tips de cocina;Horarios\n",
              " 85   Entre 20 y 35  Masculino                                  Promociones;Menu\n",
              " 87   Entre 20 y 35  Masculino                         Promociones;Menu;Horarios\n",
              " 90   Entre 20 y 35  Masculino                                  Promociones;Menu\n",
              " 95   Entre 20 y 35  Masculino                                  Promociones;Menu\n",
              " 104  Entre 20 y 35  Masculino                Promociones;Recetas/Tips de cocina\n",
              " 105  Entre 20 y 35  Masculino                                     Menu;Horarios\n",
              " 106  Entre 20 y 35  Masculino                                              Menu\n",
              " 111  Entre 20 y 35  Masculino                         Promociones;Menu;Horarios\n",
              " 112  Entre 20 y 35  Masculino           Promociones;Menu;Recetas/Tips de cocina\n",
              " 116  Entre 20 y 35  Masculino                                  Promociones;Menu\n",
              " 117  Entre 20 y 35  Masculino                                  Promociones;Menu\n",
              " 120  Entre 20 y 35  Masculino           Promociones;Menu;Recetas/Tips de cocina\n",
              " 129  Entre 20 y 35  Masculino                         Promociones;Menu;Horarios\n",
              " 130  Entre 20 y 35  Masculino                         Promociones;Menu;Horarios\n",
              " 139  Entre 20 y 35  Masculino                    Recetas/Tips de cocina;Precios\n",
              " 142  Entre 20 y 35  Masculino           Promociones;Menu;Recetas/Tips de cocina\n",
              " 144  Entre 20 y 35  Masculino                              Promociones;Horarios\n",
              " 147  Entre 20 y 35  Masculino                                       Promociones\n",
              " 150  Entre 20 y 35  Masculino           Promociones;Menu;Recetas/Tips de cocina\n",
              " 152  Entre 20 y 35  Masculino                         Promociones;Menu;Horarios\n",
              " 154  Entre 20 y 35  Masculino                                  Promociones;Menu)"
            ]
          },
          "metadata": {
            "tags": []
          },
          "execution_count": 41
        }
      ]
    },
    {
      "cell_type": "markdown",
      "metadata": {
        "id": "8izkmZfDl3jo"
      },
      "source": [
        "### FREQUENCIES: Transform to a dicionary and dataframe"
      ]
    },
    {
      "cell_type": "code",
      "metadata": {
        "id": "jCIeNo5GfLTJ",
        "colab": {
          "base_uri": "https://localhost:8080/"
        },
        "outputId": "1b47a3aa-b22b-4c7b-c2c7-90509b35bb0a"
      },
      "source": [
        "#@title Filtering the dataset\n",
        "age_dic_sm_f = {}\n",
        "age_dic_sm_m = {}\n",
        "age_dic_sm_20_35f = {}\n",
        "age_dic_sm_20_35m = {}\n",
        "age_dic_sm_35_45f = {}\n",
        "age_dic_sm_35_45m = {}\n",
        "age_dic_sm_mayor45f = {}\n",
        "age_dic_sm_mayor45m = {}\n",
        "\n",
        "#Menor de 20 Femenino\n",
        "age_dic_sm_f['Promociones'] = df_menor20f['Preferencias SM'].str.count(\"Promociones\").sum()\n",
        "age_dic_sm_f['Menu']= df_menor20f['Preferencias SM'].str.count(\"Menu\").sum()\n",
        "age_dic_sm_f['Recetas y tips'] = df_menor20f['Preferencias SM'].str.count(\"Recetas\").sum()\n",
        "age_dic_sm_f['Horarios'] = df_menor20f['Preferencias SM'].str.count(\"Horarios\").sum()\n",
        "\n",
        "#Menor de 20 masculino\n",
        "age_dic_sm_m['Promociones'] = df_menor20m['Preferencias SM'].str.count(\"Promociones\").sum()\n",
        "age_dic_sm_m['Menu']= df_menor20m['Preferencias SM'].str.count(\"Menu\").sum()\n",
        "age_dic_sm_m['Recetas y tips'] = df_menor20m['Preferencias SM'].str.count(\"Recetas\").sum()\n",
        "age_dic_sm_m['Horarios'] = df_menor20m['Preferencias SM'].str.count(\"Horarios\").sum()\n",
        "\n",
        "#Entre 20 y 35 femenino\n",
        "\n",
        "age_dic_sm_20_35f['Promociones'] = df_20_35f['Preferencias SM'].str.count(\"Promociones\").sum()\n",
        "age_dic_sm_20_35f['Menu']= df_20_35f['Preferencias SM'].str.count(\"Menu\").sum()\n",
        "age_dic_sm_20_35f['Recetas y tips'] = df_20_35f['Preferencias SM'].str.count(\"Recetas\").sum()\n",
        "age_dic_sm_20_35f['Horarios'] = df_20_35f['Preferencias SM'].str.count(\"Horarios\").sum()\n",
        "\n",
        "#Entre 20 y 35 masculino\n",
        "age_dic_sm_20_35m['Promociones'] = df_20_35m['Preferencias SM'].str.count(\"Promociones\").sum()\n",
        "age_dic_sm_20_35m['Menu']= df_20_35m['Preferencias SM'].str.count(\"Menu\").sum()\n",
        "age_dic_sm_20_35m['Recetas y tips'] = df_20_35m['Preferencias SM'].str.count(\"Recetas\").sum()\n",
        "age_dic_sm_20_35m['Horarios'] = df_20_35m['Preferencias SM'].str.count(\"Horarios\").sum()\n",
        "\n",
        "#Entre 35 y 45 femenino\n",
        "\n",
        "age_dic_sm_35_45f['Promociones'] = df_35_45f['Preferencias SM'].str.count(\"Promociones\").sum()\n",
        "age_dic_sm_35_45f['Menu']= df_35_45f['Preferencias SM'].str.count(\"Menu\").sum()\n",
        "age_dic_sm_35_45f['Recetas y tips'] = df_35_45f['Preferencias SM'].str.count(\"Recetas\").sum()\n",
        "age_dic_sm_35_45f['Horarios'] = df_35_45f['Preferencias SM'].str.count(\"Horarios\").sum()\n",
        "\n",
        "#Entre 35 y 45 masculino\n",
        "age_dic_sm_35_45m['Promociones'] = df_35_45m['Preferencias SM'].str.count(\"Promociones\").sum()\n",
        "age_dic_sm_35_45m['Menu']= df_35_45m['Preferencias SM'].str.count(\"Menu\").sum()\n",
        "age_dic_sm_35_45m['Recetas y tips'] = df_35_45m['Preferencias SM'].str.count(\"Recetas\").sum()\n",
        "age_dic_sm_35_45m['Horarios'] = df_35_45m['Preferencias SM'].str.count(\"Horarios\").sum()\n",
        "\n",
        "age_dic_sm_mayor45f['Promociones'] = df_mayor_45f['Preferencias SM'].str.count(\"Promociones\").sum()\n",
        "age_dic_sm_mayor45f['Menu']= df_mayor_45f['Preferencias SM'].str.count(\"Menu\").sum()\n",
        "age_dic_sm_mayor45f['Recetas y tips'] = df_mayor_45f['Preferencias SM'].str.count(\"Recetas\").sum()\n",
        "age_dic_sm_mayor45f['Horarios'] = df_mayor_45f['Preferencias SM'].str.count(\"Horarios\").sum()\n",
        "\n",
        "age_dic_sm_mayor45m['Promociones'] = df_mayor_45m['Preferencias SM'].str.count(\"Promociones\").sum()\n",
        "age_dic_sm_mayor45m['Menu']= df_mayor_45m['Preferencias SM'].str.count(\"Menu\").sum()\n",
        "age_dic_sm_mayor45m['Recetas y tips'] = df_mayor_45m['Preferencias SM'].str.count(\"Recetas\").sum()\n",
        "age_dic_sm_mayor45m['Horarios'] = df_mayor_45m['Preferencias SM'].str.count(\"Horarios\").sum()\n",
        "\n",
        "age_dic_sm_20_35f, age_dic_sm_35_45m\n"
      ],
      "execution_count": 42,
      "outputs": [
        {
          "output_type": "execute_result",
          "data": {
            "text/plain": [
              "({'Horarios': 35.0, 'Menu': 49.0, 'Promociones': 63.0, 'Recetas y tips': 23.0},\n",
              " {'Horarios': 7, 'Menu': 7, 'Promociones': 13, 'Recetas y tips': 4})"
            ]
          },
          "metadata": {
            "tags": []
          },
          "execution_count": 42
        }
      ]
    },
    {
      "cell_type": "markdown",
      "metadata": {
        "id": "I9ZLo76mmQhX"
      },
      "source": [
        "### Gender classification and Social Media Preferences"
      ]
    },
    {
      "cell_type": "code",
      "metadata": {
        "id": "rxSsSZPJfLbY",
        "colab": {
          "base_uri": "https://localhost:8080/"
        },
        "outputId": "7fe72d84-b14b-4034-ab65-3498951a2819"
      },
      "source": [
        "#@title Set the age gender sm dataframe\n",
        "dict_list = [age_dic_sm_f, age_dic_sm_m, age_dic_sm_20_35f, age_dic_sm_20_35m, age_dic_sm_35_45f, age_dic_sm_35_45m,age_dic_sm_mayor45f, age_dic_sm_mayor45m]\n",
        "dict_list\n",
        "#f_result = pd.DataFrame(dict_list, index=['Menor de 20','Entre 20 y 35', 'Entre 35 y 45', 'Mayor de 45'])"
      ],
      "execution_count": 43,
      "outputs": [
        {
          "output_type": "execute_result",
          "data": {
            "text/plain": [
              "[{'Horarios': 2, 'Menu': 2, 'Promociones': 1, 'Recetas y tips': 2},\n",
              " {'Horarios': 0, 'Menu': 0, 'Promociones': 0, 'Recetas y tips': 0},\n",
              " {'Horarios': 35.0, 'Menu': 49.0, 'Promociones': 63.0, 'Recetas y tips': 23.0},\n",
              " {'Horarios': 17.0, 'Menu': 29.0, 'Promociones': 34.0, 'Recetas y tips': 13.0},\n",
              " {'Horarios': 6, 'Menu': 9, 'Promociones': 10, 'Recetas y tips': 7},\n",
              " {'Horarios': 7, 'Menu': 7, 'Promociones': 13, 'Recetas y tips': 4},\n",
              " {'Horarios': 8, 'Menu': 9, 'Promociones': 11, 'Recetas y tips': 7},\n",
              " {'Horarios': 1, 'Menu': 6, 'Promociones': 7, 'Recetas y tips': 3}]"
            ]
          },
          "metadata": {
            "tags": []
          },
          "execution_count": 43
        }
      ]
    },
    {
      "cell_type": "code",
      "metadata": {
        "id": "Zw9pY8urfLhc",
        "colab": {
          "base_uri": "https://localhost:8080/",
          "height": 295
        },
        "outputId": "6cd1c82c-e35d-4803-b604-4cbbf5d3b21e"
      },
      "source": [
        "df_final = pd.DataFrame(dict_list).astype(int)\n",
        "df_final"
      ],
      "execution_count": 44,
      "outputs": [
        {
          "output_type": "execute_result",
          "data": {
            "text/html": [
              "<div>\n",
              "<style scoped>\n",
              "    .dataframe tbody tr th:only-of-type {\n",
              "        vertical-align: middle;\n",
              "    }\n",
              "\n",
              "    .dataframe tbody tr th {\n",
              "        vertical-align: top;\n",
              "    }\n",
              "\n",
              "    .dataframe thead th {\n",
              "        text-align: right;\n",
              "    }\n",
              "</style>\n",
              "<table border=\"1\" class=\"dataframe\">\n",
              "  <thead>\n",
              "    <tr style=\"text-align: right;\">\n",
              "      <th></th>\n",
              "      <th>Promociones</th>\n",
              "      <th>Menu</th>\n",
              "      <th>Recetas y tips</th>\n",
              "      <th>Horarios</th>\n",
              "    </tr>\n",
              "  </thead>\n",
              "  <tbody>\n",
              "    <tr>\n",
              "      <th>0</th>\n",
              "      <td>1</td>\n",
              "      <td>2</td>\n",
              "      <td>2</td>\n",
              "      <td>2</td>\n",
              "    </tr>\n",
              "    <tr>\n",
              "      <th>1</th>\n",
              "      <td>0</td>\n",
              "      <td>0</td>\n",
              "      <td>0</td>\n",
              "      <td>0</td>\n",
              "    </tr>\n",
              "    <tr>\n",
              "      <th>2</th>\n",
              "      <td>63</td>\n",
              "      <td>49</td>\n",
              "      <td>23</td>\n",
              "      <td>35</td>\n",
              "    </tr>\n",
              "    <tr>\n",
              "      <th>3</th>\n",
              "      <td>34</td>\n",
              "      <td>29</td>\n",
              "      <td>13</td>\n",
              "      <td>17</td>\n",
              "    </tr>\n",
              "    <tr>\n",
              "      <th>4</th>\n",
              "      <td>10</td>\n",
              "      <td>9</td>\n",
              "      <td>7</td>\n",
              "      <td>6</td>\n",
              "    </tr>\n",
              "    <tr>\n",
              "      <th>5</th>\n",
              "      <td>13</td>\n",
              "      <td>7</td>\n",
              "      <td>4</td>\n",
              "      <td>7</td>\n",
              "    </tr>\n",
              "    <tr>\n",
              "      <th>6</th>\n",
              "      <td>11</td>\n",
              "      <td>9</td>\n",
              "      <td>7</td>\n",
              "      <td>8</td>\n",
              "    </tr>\n",
              "    <tr>\n",
              "      <th>7</th>\n",
              "      <td>7</td>\n",
              "      <td>6</td>\n",
              "      <td>3</td>\n",
              "      <td>1</td>\n",
              "    </tr>\n",
              "  </tbody>\n",
              "</table>\n",
              "</div>"
            ],
            "text/plain": [
              "   Promociones  Menu  Recetas y tips  Horarios\n",
              "0            1     2               2         2\n",
              "1            0     0               0         0\n",
              "2           63    49              23        35\n",
              "3           34    29              13        17\n",
              "4           10     9               7         6\n",
              "5           13     7               4         7\n",
              "6           11     9               7         8\n",
              "7            7     6               3         1"
            ]
          },
          "metadata": {
            "tags": []
          },
          "execution_count": 44
        }
      ]
    },
    {
      "cell_type": "code",
      "metadata": {
        "id": "anwC18uLfLqF"
      },
      "source": [
        "gender = ['Femenino', 'Masculino']\n",
        "df_final['Genero'] = gender*4"
      ],
      "execution_count": 45,
      "outputs": []
    },
    {
      "cell_type": "code",
      "metadata": {
        "id": "tR7eeH9sfLyN",
        "colab": {
          "base_uri": "https://localhost:8080/",
          "height": 295
        },
        "outputId": "dd80969b-8135-4263-c16f-26511769af9f"
      },
      "source": [
        "df_final"
      ],
      "execution_count": 46,
      "outputs": [
        {
          "output_type": "execute_result",
          "data": {
            "text/html": [
              "<div>\n",
              "<style scoped>\n",
              "    .dataframe tbody tr th:only-of-type {\n",
              "        vertical-align: middle;\n",
              "    }\n",
              "\n",
              "    .dataframe tbody tr th {\n",
              "        vertical-align: top;\n",
              "    }\n",
              "\n",
              "    .dataframe thead th {\n",
              "        text-align: right;\n",
              "    }\n",
              "</style>\n",
              "<table border=\"1\" class=\"dataframe\">\n",
              "  <thead>\n",
              "    <tr style=\"text-align: right;\">\n",
              "      <th></th>\n",
              "      <th>Promociones</th>\n",
              "      <th>Menu</th>\n",
              "      <th>Recetas y tips</th>\n",
              "      <th>Horarios</th>\n",
              "      <th>Genero</th>\n",
              "    </tr>\n",
              "  </thead>\n",
              "  <tbody>\n",
              "    <tr>\n",
              "      <th>0</th>\n",
              "      <td>1</td>\n",
              "      <td>2</td>\n",
              "      <td>2</td>\n",
              "      <td>2</td>\n",
              "      <td>Femenino</td>\n",
              "    </tr>\n",
              "    <tr>\n",
              "      <th>1</th>\n",
              "      <td>0</td>\n",
              "      <td>0</td>\n",
              "      <td>0</td>\n",
              "      <td>0</td>\n",
              "      <td>Masculino</td>\n",
              "    </tr>\n",
              "    <tr>\n",
              "      <th>2</th>\n",
              "      <td>63</td>\n",
              "      <td>49</td>\n",
              "      <td>23</td>\n",
              "      <td>35</td>\n",
              "      <td>Femenino</td>\n",
              "    </tr>\n",
              "    <tr>\n",
              "      <th>3</th>\n",
              "      <td>34</td>\n",
              "      <td>29</td>\n",
              "      <td>13</td>\n",
              "      <td>17</td>\n",
              "      <td>Masculino</td>\n",
              "    </tr>\n",
              "    <tr>\n",
              "      <th>4</th>\n",
              "      <td>10</td>\n",
              "      <td>9</td>\n",
              "      <td>7</td>\n",
              "      <td>6</td>\n",
              "      <td>Femenino</td>\n",
              "    </tr>\n",
              "    <tr>\n",
              "      <th>5</th>\n",
              "      <td>13</td>\n",
              "      <td>7</td>\n",
              "      <td>4</td>\n",
              "      <td>7</td>\n",
              "      <td>Masculino</td>\n",
              "    </tr>\n",
              "    <tr>\n",
              "      <th>6</th>\n",
              "      <td>11</td>\n",
              "      <td>9</td>\n",
              "      <td>7</td>\n",
              "      <td>8</td>\n",
              "      <td>Femenino</td>\n",
              "    </tr>\n",
              "    <tr>\n",
              "      <th>7</th>\n",
              "      <td>7</td>\n",
              "      <td>6</td>\n",
              "      <td>3</td>\n",
              "      <td>1</td>\n",
              "      <td>Masculino</td>\n",
              "    </tr>\n",
              "  </tbody>\n",
              "</table>\n",
              "</div>"
            ],
            "text/plain": [
              "   Promociones  Menu  Recetas y tips  Horarios     Genero\n",
              "0            1     2               2         2   Femenino\n",
              "1            0     0               0         0  Masculino\n",
              "2           63    49              23        35   Femenino\n",
              "3           34    29              13        17  Masculino\n",
              "4           10     9               7         6   Femenino\n",
              "5           13     7               4         7  Masculino\n",
              "6           11     9               7         8   Femenino\n",
              "7            7     6               3         1  Masculino"
            ]
          },
          "metadata": {
            "tags": []
          },
          "execution_count": 46
        }
      ]
    },
    {
      "cell_type": "code",
      "metadata": {
        "id": "4x52YAuAfL61",
        "colab": {
          "base_uri": "https://localhost:8080/",
          "height": 295
        },
        "outputId": "d37ea6b5-62d6-4fe6-e536-e40446890cac"
      },
      "source": [
        "#@title Adding the age\n",
        "age1 = 2*['Menor de 20']+2*['Entre 20 y 35']+2*['Entre 16 y 45']+2*['Mayor de 45']\n",
        "df_final['Edad']=age1\n",
        "df_final"
      ],
      "execution_count": 47,
      "outputs": [
        {
          "output_type": "execute_result",
          "data": {
            "text/html": [
              "<div>\n",
              "<style scoped>\n",
              "    .dataframe tbody tr th:only-of-type {\n",
              "        vertical-align: middle;\n",
              "    }\n",
              "\n",
              "    .dataframe tbody tr th {\n",
              "        vertical-align: top;\n",
              "    }\n",
              "\n",
              "    .dataframe thead th {\n",
              "        text-align: right;\n",
              "    }\n",
              "</style>\n",
              "<table border=\"1\" class=\"dataframe\">\n",
              "  <thead>\n",
              "    <tr style=\"text-align: right;\">\n",
              "      <th></th>\n",
              "      <th>Promociones</th>\n",
              "      <th>Menu</th>\n",
              "      <th>Recetas y tips</th>\n",
              "      <th>Horarios</th>\n",
              "      <th>Genero</th>\n",
              "      <th>Edad</th>\n",
              "    </tr>\n",
              "  </thead>\n",
              "  <tbody>\n",
              "    <tr>\n",
              "      <th>0</th>\n",
              "      <td>1</td>\n",
              "      <td>2</td>\n",
              "      <td>2</td>\n",
              "      <td>2</td>\n",
              "      <td>Femenino</td>\n",
              "      <td>Menor de 20</td>\n",
              "    </tr>\n",
              "    <tr>\n",
              "      <th>1</th>\n",
              "      <td>0</td>\n",
              "      <td>0</td>\n",
              "      <td>0</td>\n",
              "      <td>0</td>\n",
              "      <td>Masculino</td>\n",
              "      <td>Menor de 20</td>\n",
              "    </tr>\n",
              "    <tr>\n",
              "      <th>2</th>\n",
              "      <td>63</td>\n",
              "      <td>49</td>\n",
              "      <td>23</td>\n",
              "      <td>35</td>\n",
              "      <td>Femenino</td>\n",
              "      <td>Entre 20 y 35</td>\n",
              "    </tr>\n",
              "    <tr>\n",
              "      <th>3</th>\n",
              "      <td>34</td>\n",
              "      <td>29</td>\n",
              "      <td>13</td>\n",
              "      <td>17</td>\n",
              "      <td>Masculino</td>\n",
              "      <td>Entre 20 y 35</td>\n",
              "    </tr>\n",
              "    <tr>\n",
              "      <th>4</th>\n",
              "      <td>10</td>\n",
              "      <td>9</td>\n",
              "      <td>7</td>\n",
              "      <td>6</td>\n",
              "      <td>Femenino</td>\n",
              "      <td>Entre 16 y 45</td>\n",
              "    </tr>\n",
              "    <tr>\n",
              "      <th>5</th>\n",
              "      <td>13</td>\n",
              "      <td>7</td>\n",
              "      <td>4</td>\n",
              "      <td>7</td>\n",
              "      <td>Masculino</td>\n",
              "      <td>Entre 16 y 45</td>\n",
              "    </tr>\n",
              "    <tr>\n",
              "      <th>6</th>\n",
              "      <td>11</td>\n",
              "      <td>9</td>\n",
              "      <td>7</td>\n",
              "      <td>8</td>\n",
              "      <td>Femenino</td>\n",
              "      <td>Mayor de 45</td>\n",
              "    </tr>\n",
              "    <tr>\n",
              "      <th>7</th>\n",
              "      <td>7</td>\n",
              "      <td>6</td>\n",
              "      <td>3</td>\n",
              "      <td>1</td>\n",
              "      <td>Masculino</td>\n",
              "      <td>Mayor de 45</td>\n",
              "    </tr>\n",
              "  </tbody>\n",
              "</table>\n",
              "</div>"
            ],
            "text/plain": [
              "   Promociones  Menu  Recetas y tips  Horarios     Genero           Edad\n",
              "0            1     2               2         2   Femenino    Menor de 20\n",
              "1            0     0               0         0  Masculino    Menor de 20\n",
              "2           63    49              23        35   Femenino  Entre 20 y 35\n",
              "3           34    29              13        17  Masculino  Entre 20 y 35\n",
              "4           10     9               7         6   Femenino  Entre 16 y 45\n",
              "5           13     7               4         7  Masculino  Entre 16 y 45\n",
              "6           11     9               7         8   Femenino    Mayor de 45\n",
              "7            7     6               3         1  Masculino    Mayor de 45"
            ]
          },
          "metadata": {
            "tags": []
          },
          "execution_count": 47
        }
      ]
    },
    {
      "cell_type": "code",
      "metadata": {
        "id": "kH_kUWigfMDJ",
        "colab": {
          "base_uri": "https://localhost:8080/",
          "height": 326
        },
        "outputId": "a6a6303b-eb37-477a-da25-adbbd6445210"
      },
      "source": [
        "#@title Set index\n",
        "df_final = df_final.set_index(['Edad']).sort_index()\n",
        "df_final"
      ],
      "execution_count": 48,
      "outputs": [
        {
          "output_type": "execute_result",
          "data": {
            "text/html": [
              "<div>\n",
              "<style scoped>\n",
              "    .dataframe tbody tr th:only-of-type {\n",
              "        vertical-align: middle;\n",
              "    }\n",
              "\n",
              "    .dataframe tbody tr th {\n",
              "        vertical-align: top;\n",
              "    }\n",
              "\n",
              "    .dataframe thead th {\n",
              "        text-align: right;\n",
              "    }\n",
              "</style>\n",
              "<table border=\"1\" class=\"dataframe\">\n",
              "  <thead>\n",
              "    <tr style=\"text-align: right;\">\n",
              "      <th></th>\n",
              "      <th>Promociones</th>\n",
              "      <th>Menu</th>\n",
              "      <th>Recetas y tips</th>\n",
              "      <th>Horarios</th>\n",
              "      <th>Genero</th>\n",
              "    </tr>\n",
              "    <tr>\n",
              "      <th>Edad</th>\n",
              "      <th></th>\n",
              "      <th></th>\n",
              "      <th></th>\n",
              "      <th></th>\n",
              "      <th></th>\n",
              "    </tr>\n",
              "  </thead>\n",
              "  <tbody>\n",
              "    <tr>\n",
              "      <th>Entre 16 y 45</th>\n",
              "      <td>10</td>\n",
              "      <td>9</td>\n",
              "      <td>7</td>\n",
              "      <td>6</td>\n",
              "      <td>Femenino</td>\n",
              "    </tr>\n",
              "    <tr>\n",
              "      <th>Entre 16 y 45</th>\n",
              "      <td>13</td>\n",
              "      <td>7</td>\n",
              "      <td>4</td>\n",
              "      <td>7</td>\n",
              "      <td>Masculino</td>\n",
              "    </tr>\n",
              "    <tr>\n",
              "      <th>Entre 20 y 35</th>\n",
              "      <td>63</td>\n",
              "      <td>49</td>\n",
              "      <td>23</td>\n",
              "      <td>35</td>\n",
              "      <td>Femenino</td>\n",
              "    </tr>\n",
              "    <tr>\n",
              "      <th>Entre 20 y 35</th>\n",
              "      <td>34</td>\n",
              "      <td>29</td>\n",
              "      <td>13</td>\n",
              "      <td>17</td>\n",
              "      <td>Masculino</td>\n",
              "    </tr>\n",
              "    <tr>\n",
              "      <th>Mayor de 45</th>\n",
              "      <td>11</td>\n",
              "      <td>9</td>\n",
              "      <td>7</td>\n",
              "      <td>8</td>\n",
              "      <td>Femenino</td>\n",
              "    </tr>\n",
              "    <tr>\n",
              "      <th>Mayor de 45</th>\n",
              "      <td>7</td>\n",
              "      <td>6</td>\n",
              "      <td>3</td>\n",
              "      <td>1</td>\n",
              "      <td>Masculino</td>\n",
              "    </tr>\n",
              "    <tr>\n",
              "      <th>Menor de 20</th>\n",
              "      <td>1</td>\n",
              "      <td>2</td>\n",
              "      <td>2</td>\n",
              "      <td>2</td>\n",
              "      <td>Femenino</td>\n",
              "    </tr>\n",
              "    <tr>\n",
              "      <th>Menor de 20</th>\n",
              "      <td>0</td>\n",
              "      <td>0</td>\n",
              "      <td>0</td>\n",
              "      <td>0</td>\n",
              "      <td>Masculino</td>\n",
              "    </tr>\n",
              "  </tbody>\n",
              "</table>\n",
              "</div>"
            ],
            "text/plain": [
              "               Promociones  Menu  Recetas y tips  Horarios     Genero\n",
              "Edad                                                                 \n",
              "Entre 16 y 45           10     9               7         6   Femenino\n",
              "Entre 16 y 45           13     7               4         7  Masculino\n",
              "Entre 20 y 35           63    49              23        35   Femenino\n",
              "Entre 20 y 35           34    29              13        17  Masculino\n",
              "Mayor de 45             11     9               7         8   Femenino\n",
              "Mayor de 45              7     6               3         1  Masculino\n",
              "Menor de 20              1     2               2         2   Femenino\n",
              "Menor de 20              0     0               0         0  Masculino"
            ]
          },
          "metadata": {
            "tags": []
          },
          "execution_count": 48
        }
      ]
    },
    {
      "cell_type": "code",
      "metadata": {
        "id": "LJn2XapFclD0",
        "colab": {
          "base_uri": "https://localhost:8080/",
          "height": 172
        },
        "outputId": "396f3a31-a4dc-4824-fa6a-b04a106e4212"
      },
      "source": [
        "#@title Frequency for Social Media Preferences\n",
        "freq_promo = df_final['Promociones'].sum()\n",
        "freq_menu = df_final['Menu'].sum()\n",
        "freq_recetas = df_final['Recetas y tips'].sum()\n",
        "freq_horarios = df_final['Horarios'].sum()\n",
        "sm_freq = {}\n",
        "sm_freq['Promociones'] = freq_promo\n",
        "sm_freq['Menu'] = freq_menu\n",
        "sm_freq['Recetas y tips'] = freq_recetas\n",
        "sm_freq['Horarios'] = freq_horarios\n",
        "dict_sm_freq = pd.DataFrame(sm_freq.items(), columns=['Preferencias SM', 'Frequencia'])\n",
        "dict_sm_freq"
      ],
      "execution_count": 49,
      "outputs": [
        {
          "output_type": "execute_result",
          "data": {
            "text/html": [
              "<div>\n",
              "<style scoped>\n",
              "    .dataframe tbody tr th:only-of-type {\n",
              "        vertical-align: middle;\n",
              "    }\n",
              "\n",
              "    .dataframe tbody tr th {\n",
              "        vertical-align: top;\n",
              "    }\n",
              "\n",
              "    .dataframe thead th {\n",
              "        text-align: right;\n",
              "    }\n",
              "</style>\n",
              "<table border=\"1\" class=\"dataframe\">\n",
              "  <thead>\n",
              "    <tr style=\"text-align: right;\">\n",
              "      <th></th>\n",
              "      <th>Preferencias SM</th>\n",
              "      <th>Frequencia</th>\n",
              "    </tr>\n",
              "  </thead>\n",
              "  <tbody>\n",
              "    <tr>\n",
              "      <th>0</th>\n",
              "      <td>Promociones</td>\n",
              "      <td>139</td>\n",
              "    </tr>\n",
              "    <tr>\n",
              "      <th>1</th>\n",
              "      <td>Menu</td>\n",
              "      <td>111</td>\n",
              "    </tr>\n",
              "    <tr>\n",
              "      <th>2</th>\n",
              "      <td>Recetas y tips</td>\n",
              "      <td>59</td>\n",
              "    </tr>\n",
              "    <tr>\n",
              "      <th>3</th>\n",
              "      <td>Horarios</td>\n",
              "      <td>76</td>\n",
              "    </tr>\n",
              "  </tbody>\n",
              "</table>\n",
              "</div>"
            ],
            "text/plain": [
              "  Preferencias SM  Frequencia\n",
              "0     Promociones         139\n",
              "1            Menu         111\n",
              "2  Recetas y tips          59\n",
              "3        Horarios          76"
            ]
          },
          "metadata": {
            "tags": []
          },
          "execution_count": 49
        }
      ]
    },
    {
      "cell_type": "markdown",
      "metadata": {
        "id": "R92ScrVpnBZh"
      },
      "source": [
        "### Save and Export"
      ]
    },
    {
      "cell_type": "code",
      "metadata": {
        "id": "WGvsCvf_Z6iZ"
      },
      "source": [
        "#@title Save and export social media frequencies preferences\n",
        "dict_sm_freq.to_csv('/content/drive/My Drive/smpref_freq.csv', encoding='utf-8', index=False)"
      ],
      "execution_count": null,
      "outputs": []
    },
    {
      "cell_type": "code",
      "metadata": {
        "id": "uiIIIkd7YUQe"
      },
      "source": [
        "#@title Save and export age and gender social media preferences\n",
        "path_10 = '/content/drive/My Drive/age_gendersm.csv'\n",
        "df_final.to_csv(path_10, encoding='utf-8')\n",
        "\n"
      ],
      "execution_count": null,
      "outputs": []
    },
    {
      "cell_type": "markdown",
      "metadata": {
        "id": "J7ARhMv_QoUR"
      },
      "source": [
        "## DELIVERY PREFERENCES BY AGE"
      ]
    },
    {
      "cell_type": "code",
      "metadata": {
        "id": "dfSWkvsYSnNF"
      },
      "source": [
        "df_read.columns"
      ],
      "execution_count": null,
      "outputs": []
    },
    {
      "cell_type": "code",
      "metadata": {
        "id": "rswUWxEcRUYL"
      },
      "source": [
        "#@title People who choose delivery\n",
        "domi_df = df_read[['Edad', 'Genero', 'Medio Favorito Para Ordenar']].copy()\n",
        "domi_df"
      ],
      "execution_count": null,
      "outputs": []
    },
    {
      "cell_type": "code",
      "metadata": {
        "id": "DFj39qVDTP34"
      },
      "source": [
        "domi_df.set_index(['Genero','Medio Favorito Para Ordenar']).sort_index()"
      ],
      "execution_count": null,
      "outputs": []
    },
    {
      "cell_type": "code",
      "metadata": {
        "id": "3eXgjO_nTnIq"
      },
      "source": [
        "df_stats1 = domi_df.set_index(['Medio Favorito Para Ordenar']).sort_index()\n",
        "df_stats1"
      ],
      "execution_count": null,
      "outputs": []
    },
    {
      "cell_type": "markdown",
      "metadata": {
        "id": "wDwxclhgoCVm"
      },
      "source": [
        "### Save and Export"
      ]
    },
    {
      "cell_type": "code",
      "metadata": {
        "id": "pScIGzKIZRZr"
      },
      "source": [
        "df_stats1.to_csv(dir_pandas)"
      ],
      "execution_count": null,
      "outputs": []
    },
    {
      "cell_type": "code",
      "metadata": {
        "id": "zjlw0qO9ZmzH"
      },
      "source": [
        "df_stats1.to_excel(dir_pandas)"
      ],
      "execution_count": null,
      "outputs": []
    }
  ]
}